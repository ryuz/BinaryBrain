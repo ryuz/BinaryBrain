{
 "cells": [
  {
   "cell_type": "markdown",
   "metadata": {},
   "source": [
    "# SVHN"
   ]
  },
  {
   "cell_type": "markdown",
   "metadata": {
    "colab_type": "text",
    "id": "atEZew4ESgqb"
   },
   "source": [
    "## Setup\n",
    "### Preparation for Google Colab"
   ]
  },
  {
   "cell_type": "code",
   "execution_count": 1,
   "metadata": {},
   "outputs": [],
   "source": [
    "google_colab = False"
   ]
  },
  {
   "cell_type": "code",
   "execution_count": 2,
   "metadata": {},
   "outputs": [],
   "source": [
    "# install\n",
    "try:\n",
    "    import binarybrain as bb\n",
    "except:\n",
    "    if google_colab:\n",
    "        !pip install pybind11\n",
    "        %cd /content\n",
    "        !nvcc -V\n",
    "        !sudo rm -fr BinaryBrain\n",
    "        !rm -fr BinaryBrain\n",
    "        !git clone --recursive -b ver3_develop https://github.com/ryuz/BinaryBrain.git\n",
    "        %cd /content/BinaryBrain/python\n",
    "        !sh copy_src.sh\n",
    "        !python3 setup.py build\n",
    "        !python3 setup.py develop\n",
    "\n",
    "        import binarybrain as bb"
   ]
  },
  {
   "cell_type": "code",
   "execution_count": 3,
   "metadata": {},
   "outputs": [],
   "source": [
    "# mount\n",
    "if google_colab:\n",
    "    from google.colab import drive \n",
    "    drive.mount('/content/drive')\n",
    "    %cd /content/drive/My Drive"
   ]
  },
  {
   "cell_type": "markdown",
   "metadata": {},
   "source": [
    "### setup GPU"
   ]
  },
  {
   "cell_type": "code",
   "execution_count": 4,
   "metadata": {},
   "outputs": [
    {
     "name": "stdout",
     "output_type": "stream",
     "text": [
      "\n",
      "name                     : GeForce GT 1030\n",
      "totalGlobalMem           : 2147483648\n",
      "sharedMemPerBlock        : 49152\n",
      "regsPerBlock             : 65536\n",
      "warpSize                 : 32\n",
      "memPitch                 : 2147483647\n",
      "maxThreadsPerBlock       : 1024\n",
      "maxThreadsDim[0]         : 1024\n",
      "maxThreadsDim[1]         : 1024\n",
      "maxThreadsDim[2]         : 64\n",
      "maxGridSize[0]           : 2147483647\n",
      "maxGridSize[1]           : 65535\n",
      "maxGridSize[2]           : 65535\n",
      "clockRate                : 1468000\n",
      "totalConstMem            : 65536\n",
      "major                    : 6\n",
      "minor                    : 1\n",
      "textureAlignment         : 512\n",
      "deviceOverlap            : 1\n",
      "multiProcessorCount      : 3\n",
      "kernelExecTimeoutEnabled : 1\n",
      "integrated               : 0\n",
      "canMapHostMemory         : 1\n",
      "computeMode              : 0\n",
      "\n",
      "\n"
     ]
    }
   ],
   "source": [
    "# select CUDA device\n",
    "device = 1\n",
    "bb.set_device(device)\n",
    "prop = bb.get_device_properties(device)\n",
    "print(prop)\n",
    "\n",
    "# setup OpenMP\n",
    "bb.omp_set_num_threads(4)"
   ]
  },
  {
   "cell_type": "markdown",
   "metadata": {
    "colab_type": "text",
    "id": "0L3nSwtTUK_z"
   },
   "source": [
    "## Main code"
   ]
  },
  {
   "cell_type": "code",
   "execution_count": 5,
   "metadata": {},
   "outputs": [],
   "source": [
    "import binarybrain as bb\n",
    "import numpy as np\n",
    "import matplotlib.pyplot as plt\n",
    "import random\n",
    "import cv2\n",
    "import os\n",
    "import sys\n",
    "import scipy.io as sio\n",
    "import matplotlib.pyplot as plt\n",
    "from tqdm import tqdm\n",
    "from collections import OrderedDict"
   ]
  },
  {
   "cell_type": "code",
   "execution_count": 6,
   "metadata": {},
   "outputs": [],
   "source": [
    "network_name = 'SvhnCnnFp32'\n",
    "mini_batch_size = 64"
   ]
  },
  {
   "cell_type": "code",
   "execution_count": 7,
   "metadata": {},
   "outputs": [],
   "source": [
    "def plot_image(img):\n",
    "    img = img.reshape(3, 32, 32).transpose(1, 2, 0)\n",
    "    plt.imshow(img)"
   ]
  },
  {
   "cell_type": "markdown",
   "metadata": {},
   "source": [
    "## Train\n",
    "### setup tain data"
   ]
  },
  {
   "cell_type": "code",
   "execution_count": 8,
   "metadata": {},
   "outputs": [],
   "source": [
    "train_data = sio.loadmat('train_32x32.mat')\n",
    "test_data  = sio.loadmat('test_32x32.mat')\n",
    "\n",
    "train_len = len(train_data['y'])\n",
    "test_len = len(test_data['y'])\n",
    "\n",
    "td = {}\n",
    "td['x_train'] = train_data['X'].transpose(3, 2, 0, 1).reshape(-1, 3*32*32).astype(np.float32) / 255.0\n",
    "td['x_test']  = test_data['X'].transpose(3, 2, 0, 1).reshape(-1, 3*32*32).astype(np.float32) / 255.0\n",
    "td['t_train'] = np.zeros((train_len, 10), dtype=np.float32)\n",
    "td['t_test']  = np.zeros((test_len, 10), dtype=np.float32)\n",
    "for i in range(train_len):\n",
    "    td['t_train'][i][train_data['y'][i][0] % 10] = 1.0\n",
    "for i in range(test_len):\n",
    "    td['t_test'][i][test_data['y'][i][0] % 10] = 1.0\n",
    "td['x_shape'] = [32, 32, 3]\n",
    "td['t_shape'] = [10]"
   ]
  },
  {
   "cell_type": "code",
   "execution_count": 9,
   "metadata": {},
   "outputs": [],
   "source": [
    "td = bb.load_cifar10()"
   ]
  },
  {
   "cell_type": "markdown",
   "metadata": {
    "colab_type": "text",
    "id": "4QwnWXYWJjlv"
   },
   "source": [
    "## Buld network"
   ]
  },
  {
   "cell_type": "markdown",
   "metadata": {},
   "source": [
    "### define classes for distillation"
   ]
  },
  {
   "cell_type": "code",
   "execution_count": 10,
   "metadata": {},
   "outputs": [],
   "source": [
    "def create_conv_layer(shape, w, h, batch_norm=False, act=True, padding='valid'):\n",
    "    sub_net = bb.Sequential.create()\n",
    "    sub_net.add(bb.DenseAffine.create(shape))\n",
    "    if batch_norm:\n",
    "        sub_net.add(bb.BatchNormalization.create())\n",
    "    if act:\n",
    "        sub_net.add(bb.ReLU.create())\n",
    "    return bb.LoweringConvolution.create(sub_net, w, h, 1, 1, padding=padding)"
   ]
  },
  {
   "cell_type": "code",
   "execution_count": 11,
   "metadata": {},
   "outputs": [
    {
     "data": {
      "text/plain": [
       "[1, 1, 10]"
      ]
     },
     "execution_count": 11,
     "metadata": {},
     "output_type": "execute_result"
    }
   ],
   "source": [
    "net = bb.Sequential.create()\n",
    "\n",
    "net.add(create_conv_layer([36], 3, 3))  # 32x32->30x30\n",
    "net.add(create_conv_layer([72], 3, 3))  # 30x30->28x28\n",
    "net.add(bb.MaxPooling.create(2, 2))     # 28x28->14x14\n",
    "net.add(create_conv_layer([72], 3, 3))  # 14x14->12x12\n",
    "net.add(create_conv_layer([144], 3, 3)) # 12x12->10x10\n",
    "net.add(bb.MaxPooling.create(2, 2))     # 10x10->5x5\n",
    "net.add(create_conv_layer([144], 3, 3)) # 5x5->3x3\n",
    "net.add(create_conv_layer([288], 3, 3)) # 3x3->1x1\n",
    "net.add(create_conv_layer([576], 1, 1))\n",
    "net.add(create_conv_layer([10], 1, 1, act=False))\n",
    "\n",
    "net.set_input_shape(td['x_shape'])"
   ]
  },
  {
   "cell_type": "code",
   "execution_count": 12,
   "metadata": {},
   "outputs": [
    {
     "name": "stdout",
     "output_type": "stream",
     "text": [
      "----------------------------------------------------------------------\n",
      "[Sequential] \n",
      "  --------------------------------------------------------------------\n",
      "  [LoweringConvolution] \n",
      "   filter size : (3, 3)\n",
      "   input  shape : {32, 32, 3}   output shape : {30, 30, 36}\n",
      "    ------------------------------------------------------------------\n",
      "    [ConvolutionIm2Col] \n",
      "     input  shape : {32, 32, 3}     output shape : {3, 3, 3}\n",
      "    ------------------------------------------------------------------\n",
      "    [Sequential] \n",
      "      ----------------------------------------------------------------\n",
      "      [DenseAffine] \n",
      "       input  shape : {3, 3, 3}       output shape : {36}\n",
      "      ----------------------------------------------------------------\n",
      "      [ReLU] \n",
      "       input  shape : {36}       output shape : {36}\n",
      "    ------------------------------------------------------------------\n",
      "    [ConvolutionCol2Im] \n",
      "     input  shape : {36}     output shape : {30, 30, 36}\n",
      "  --------------------------------------------------------------------\n",
      "  [LoweringConvolution] \n",
      "   filter size : (3, 3)\n",
      "   input  shape : {30, 30, 36}   output shape : {28, 28, 72}\n",
      "    ------------------------------------------------------------------\n",
      "    [ConvolutionIm2Col] \n",
      "     input  shape : {30, 30, 36}     output shape : {3, 3, 36}\n",
      "    ------------------------------------------------------------------\n",
      "    [Sequential] \n",
      "      ----------------------------------------------------------------\n",
      "      [DenseAffine] \n",
      "       input  shape : {3, 3, 36}       output shape : {72}\n",
      "      ----------------------------------------------------------------\n",
      "      [ReLU] \n",
      "       input  shape : {72}       output shape : {72}\n",
      "    ------------------------------------------------------------------\n",
      "    [ConvolutionCol2Im] \n",
      "     input  shape : {72}     output shape : {28, 28, 72}\n",
      "  --------------------------------------------------------------------\n",
      "  [MaxPooling] \n",
      "   filter size : (2, 2)\n",
      "   input  shape : {28, 28, 72}   output shape : {14, 14, 72}\n",
      "  --------------------------------------------------------------------\n",
      "  [LoweringConvolution] \n",
      "   filter size : (3, 3)\n",
      "   input  shape : {14, 14, 72}   output shape : {12, 12, 72}\n",
      "    ------------------------------------------------------------------\n",
      "    [ConvolutionIm2Col] \n",
      "     input  shape : {14, 14, 72}     output shape : {3, 3, 72}\n",
      "    ------------------------------------------------------------------\n",
      "    [Sequential] \n",
      "      ----------------------------------------------------------------\n",
      "      [DenseAffine] \n",
      "       input  shape : {3, 3, 72}       output shape : {72}\n",
      "      ----------------------------------------------------------------\n",
      "      [ReLU] \n",
      "       input  shape : {72}       output shape : {72}\n",
      "    ------------------------------------------------------------------\n",
      "    [ConvolutionCol2Im] \n",
      "     input  shape : {72}     output shape : {12, 12, 72}\n",
      "  --------------------------------------------------------------------\n",
      "  [LoweringConvolution] \n",
      "   filter size : (3, 3)\n",
      "   input  shape : {12, 12, 72}   output shape : {10, 10, 144}\n",
      "    ------------------------------------------------------------------\n",
      "    [ConvolutionIm2Col] \n",
      "     input  shape : {12, 12, 72}     output shape : {3, 3, 72}\n",
      "    ------------------------------------------------------------------\n",
      "    [Sequential] \n",
      "      ----------------------------------------------------------------\n",
      "      [DenseAffine] \n",
      "       input  shape : {3, 3, 72}       output shape : {144}\n",
      "      ----------------------------------------------------------------\n",
      "      [ReLU] \n",
      "       input  shape : {144}       output shape : {144}\n",
      "    ------------------------------------------------------------------\n",
      "    [ConvolutionCol2Im] \n",
      "     input  shape : {144}     output shape : {10, 10, 144}\n",
      "  --------------------------------------------------------------------\n",
      "  [MaxPooling] \n",
      "   filter size : (2, 2)\n",
      "   input  shape : {10, 10, 144}   output shape : {5, 5, 144}\n",
      "  --------------------------------------------------------------------\n",
      "  [LoweringConvolution] \n",
      "   filter size : (3, 3)\n",
      "   input  shape : {5, 5, 144}   output shape : {3, 3, 144}\n",
      "    ------------------------------------------------------------------\n",
      "    [ConvolutionIm2Col] \n",
      "     input  shape : {5, 5, 144}     output shape : {3, 3, 144}\n",
      "    ------------------------------------------------------------------\n",
      "    [Sequential] \n",
      "      ----------------------------------------------------------------\n",
      "      [DenseAffine] \n",
      "       input  shape : {3, 3, 144}       output shape : {144}\n",
      "      ----------------------------------------------------------------\n",
      "      [ReLU] \n",
      "       input  shape : {144}       output shape : {144}\n",
      "    ------------------------------------------------------------------\n",
      "    [ConvolutionCol2Im] \n",
      "     input  shape : {144}     output shape : {3, 3, 144}\n",
      "  --------------------------------------------------------------------\n",
      "  [LoweringConvolution] \n",
      "   filter size : (3, 3)\n",
      "   input  shape : {3, 3, 144}   output shape : {1, 1, 288}\n",
      "    ------------------------------------------------------------------\n",
      "    [ConvolutionIm2Col] \n",
      "     input  shape : {3, 3, 144}     output shape : {3, 3, 144}\n",
      "    ------------------------------------------------------------------\n",
      "    [Sequential] \n",
      "      ----------------------------------------------------------------\n",
      "      [DenseAffine] \n",
      "       input  shape : {3, 3, 144}       output shape : {288}\n",
      "      ----------------------------------------------------------------\n",
      "      [ReLU] \n",
      "       input  shape : {288}       output shape : {288}\n",
      "    ------------------------------------------------------------------\n",
      "    [ConvolutionCol2Im] \n",
      "     input  shape : {288}     output shape : {1, 1, 288}\n",
      "  --------------------------------------------------------------------\n",
      "  [LoweringConvolution] \n",
      "   filter size : (1, 1)\n",
      "   input  shape : {1, 1, 288}   output shape : {1, 1, 576}\n",
      "    ------------------------------------------------------------------\n",
      "    [ConvolutionIm2Col] \n",
      "     input  shape : {1, 1, 288}     output shape : {1, 1, 288}\n",
      "    ------------------------------------------------------------------\n",
      "    [Sequential] \n",
      "      ----------------------------------------------------------------\n",
      "      [DenseAffine] \n",
      "       input  shape : {1, 1, 288}       output shape : {576}\n",
      "      ----------------------------------------------------------------\n",
      "      [ReLU] \n",
      "       input  shape : {576}       output shape : {576}\n",
      "    ------------------------------------------------------------------\n",
      "    [ConvolutionCol2Im] \n",
      "     input  shape : {576}     output shape : {1, 1, 576}\n",
      "  --------------------------------------------------------------------\n",
      "  [LoweringConvolution] \n",
      "   filter size : (1, 1)\n",
      "   input  shape : {1, 1, 576}   output shape : {1, 1, 10}\n",
      "    ------------------------------------------------------------------\n",
      "    [ConvolutionIm2Col] \n",
      "     input  shape : {1, 1, 576}     output shape : {1, 1, 576}\n",
      "    ------------------------------------------------------------------\n",
      "    [Sequential] \n",
      "      ----------------------------------------------------------------\n",
      "      [DenseAffine] \n",
      "       input  shape : {1, 1, 576}       output shape : {10}\n",
      "    ------------------------------------------------------------------\n",
      "    [ConvolutionCol2Im] \n",
      "     input  shape : {10}     output shape : {1, 1, 10}\n",
      "----------------------------------------------------------------------\n",
      "\n"
     ]
    }
   ],
   "source": [
    "print(net.get_info())"
   ]
  },
  {
   "cell_type": "code",
   "execution_count": 14,
   "metadata": {},
   "outputs": [
    {
     "name": "stdout",
     "output_type": "stream",
     "text": [
      "[load] SvhnCnnFp32_net.json\n"
     ]
    },
    {
     "name": "stderr",
     "output_type": "stream",
     "text": [
      "                                                                                                                       \r"
     ]
    },
    {
     "name": "stdout",
     "output_type": "stream",
     "text": [
      "epoch=1 test_accuracy=0.700300 test_loss=1.146799 train_accuracy=0.937040 train_loss=0.188695\n"
     ]
    },
    {
     "name": "stderr",
     "output_type": "stream",
     "text": [
      "                                                                                                                       \r"
     ]
    },
    {
     "name": "stdout",
     "output_type": "stream",
     "text": [
      "epoch=2 test_accuracy=0.698800 test_loss=1.214317 train_accuracy=0.939020 train_loss=0.182249\n"
     ]
    },
    {
     "name": "stderr",
     "output_type": "stream",
     "text": [
      "                                                                                                                       \r"
     ]
    },
    {
     "name": "stdout",
     "output_type": "stream",
     "text": [
      "epoch=3 test_accuracy=0.696000 test_loss=1.425675 train_accuracy=0.939540 train_loss=0.175810\n"
     ]
    },
    {
     "name": "stderr",
     "output_type": "stream",
     "text": [
      "                                                                                                                       \r"
     ]
    },
    {
     "name": "stdout",
     "output_type": "stream",
     "text": [
      "epoch=4 test_accuracy=0.701400 test_loss=1.369337 train_accuracy=0.956900 train_loss=0.126642\n"
     ]
    },
    {
     "name": "stderr",
     "output_type": "stream",
     "text": [
      "                                                                                                                       \r"
     ]
    },
    {
     "name": "stdout",
     "output_type": "stream",
     "text": [
      "epoch=5 test_accuracy=0.694500 test_loss=1.404573 train_accuracy=0.956800 train_loss=0.126364\n"
     ]
    },
    {
     "name": "stderr",
     "output_type": "stream",
     "text": [
      "                                                                                                                       \r"
     ]
    },
    {
     "name": "stdout",
     "output_type": "stream",
     "text": [
      "epoch=6 test_accuracy=0.695000 test_loss=1.395059 train_accuracy=0.953220 train_loss=0.139435\n"
     ]
    },
    {
     "name": "stderr",
     "output_type": "stream",
     "text": [
      "                                                                                                                       \r"
     ]
    },
    {
     "name": "stdout",
     "output_type": "stream",
     "text": [
      "epoch=7 test_accuracy=0.692500 test_loss=1.629267 train_accuracy=0.955840 train_loss=0.130847\n"
     ]
    },
    {
     "name": "stderr",
     "output_type": "stream",
     "text": [
      "                                                                                                                       \r"
     ]
    },
    {
     "name": "stdout",
     "output_type": "stream",
     "text": [
      "epoch=8 test_accuracy=0.696800 test_loss=1.613167 train_accuracy=0.961400 train_loss=0.114913\n"
     ]
    },
    {
     "name": "stderr",
     "output_type": "stream",
     "text": [
      "                                                                                                                       \r"
     ]
    },
    {
     "name": "stdout",
     "output_type": "stream",
     "text": [
      "epoch=9 test_accuracy=0.690000 test_loss=1.630185 train_accuracy=0.962300 train_loss=0.112024\n"
     ]
    },
    {
     "name": "stderr",
     "output_type": "stream",
     "text": [
      "                                                                                                                       \r"
     ]
    },
    {
     "name": "stdout",
     "output_type": "stream",
     "text": [
      "epoch=10 test_accuracy=0.704500 test_loss=1.521113 train_accuracy=0.975240 train_loss=0.074521\n"
     ]
    }
   ],
   "source": [
    "loss    = bb.LossSoftmaxCrossEntropy.create()\n",
    "metrics = bb.MetricsCategoricalAccuracy.create()\n",
    "optimizer = bb.OptimizerAdam.create()\n",
    "\n",
    "optimizer.set_variables(net.get_parameters(), net.get_gradients())\n",
    "runner = bb.Runner(net, network_name, loss, metrics, optimizer)\n",
    "\n",
    "log = runner.fitting(td, epoch_size=10, mini_batch_size=mini_batch_size, file_write=True, file_read=True)"
   ]
  },
  {
   "cell_type": "code",
   "execution_count": null,
   "metadata": {},
   "outputs": [],
   "source": []
  },
  {
   "cell_type": "code",
   "execution_count": null,
   "metadata": {},
   "outputs": [],
   "source": []
  }
 ],
 "metadata": {
  "accelerator": "GPU",
  "colab": {
   "collapsed_sections": [
    "4QwnWXYWJjlv",
    "Up4x62b_QeBb",
    "v6jCPBVkQ35e"
   ],
   "name": "MnistDenseCnnBinaryDistillation_3.ipynb のコピー",
   "provenance": [
    {
     "file_id": "1dHu4WWzQncOg4n-Ry5_WdbXu_Op_OnEw",
     "timestamp": 1578184614562
    },
    {
     "file_id": "1paWRkK21-4cW_63XPXERz81_mYT-Jlhq",
     "timestamp": 1577861549996
    },
    {
     "file_id": "1ZAjEkX4ri4NzwoZdszTl5JgKGGUouulH",
     "timestamp": 1577843841402
    }
   ]
  },
  "file_extension": ".py",
  "kernelspec": {
   "display_name": "Python 3",
   "language": "python",
   "name": "python3"
  },
  "language_info": {
   "codemirror_mode": {
    "name": "ipython",
    "version": 3
   },
   "file_extension": ".py",
   "mimetype": "text/x-python",
   "name": "python",
   "nbconvert_exporter": "python",
   "pygments_lexer": "ipython3",
   "version": "3.7.4"
  },
  "mimetype": "text/x-python",
  "name": "python",
  "npconvert_exporter": "python",
  "pygments_lexer": "ipython3",
  "version": 3
 },
 "nbformat": 4,
 "nbformat_minor": 1
}
