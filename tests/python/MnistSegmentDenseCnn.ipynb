{
 "cells": [
  {
   "cell_type": "code",
   "execution_count": 1,
   "metadata": {
    "colab": {},
    "colab_type": "code",
    "id": "MW6OjiErSoLf"
   },
   "outputs": [],
   "source": [
    "google_colab = False"
   ]
  },
  {
   "cell_type": "markdown",
   "metadata": {
    "colab_type": "text",
    "id": "atEZew4ESgqb"
   },
   "source": [
    "# Google Colab用事前準備"
   ]
  },
  {
   "cell_type": "code",
   "execution_count": 2,
   "metadata": {
    "colab": {
     "base_uri": "https://localhost:8080/",
     "height": 1000
    },
    "colab_type": "code",
    "executionInfo": {
     "elapsed": 105496,
     "status": "ok",
     "timestamp": 1577512393031,
     "user": {
      "displayName": "Ryuji Fuchikami",
      "photoUrl": "https://lh3.googleusercontent.com/a-/AAuE7mAPtXjBQtwUbhRHET1x_mcz7f1D-y_Z0oW5uE1j=s64",
      "userId": "03698805240163472906"
     },
     "user_tz": -540
    },
    "id": "ngtL_LdxSIee",
    "outputId": "5c0f7399-73b1-4469-f589-c3ae2112fa16"
   },
   "outputs": [],
   "source": [
    "# install\n",
    "if google_colab:\n",
    "  !pip install pybind11\n",
    "  %cd /content\n",
    "  !nvcc -V\n",
    "  !sudo rm -fr BinaryBrain\n",
    "  !rm -fr BinaryBrain\n",
    "  !git clone --recursive -b ver3_develop https://github.com/ryuz/BinaryBrain.git\n",
    "  %cd /content/BinaryBrain/python\n",
    "  !sh copy_src.sh\n",
    "  !python3 setup.py build\n",
    "  !python3 setup.py develop\n",
    "\n",
    "  import binarybrain as bb"
   ]
  },
  {
   "cell_type": "code",
   "execution_count": 3,
   "metadata": {
    "colab": {},
    "colab_type": "code",
    "id": "MC1I5B6FcXuZ"
   },
   "outputs": [
    {
     "data": {
      "text/plain": [
       "<module 'importlib' from 'c:\\\\users\\\\ryuji\\\\appdata\\\\local\\\\programs\\\\python\\\\python37\\\\lib\\\\importlib\\\\__init__.py'>"
      ]
     },
     "execution_count": 3,
     "metadata": {},
     "output_type": "execute_result"
    }
   ],
   "source": [
    "import binarybrain as bb\n",
    "import importlib\n",
    "importlib.reload(bb)\n",
    "importlib"
   ]
  },
  {
   "cell_type": "code",
   "execution_count": 4,
   "metadata": {
    "colab": {
     "base_uri": "https://localhost:8080/",
     "height": 141
    },
    "colab_type": "code",
    "executionInfo": {
     "elapsed": 138272,
     "status": "ok",
     "timestamp": 1577512425833,
     "user": {
      "displayName": "Ryuji Fuchikami",
      "photoUrl": "https://lh3.googleusercontent.com/a-/AAuE7mAPtXjBQtwUbhRHET1x_mcz7f1D-y_Z0oW5uE1j=s64",
      "userId": "03698805240163472906"
     },
     "user_tz": -540
    },
    "id": "mRUykJrZJoJf",
    "outputId": "2d2bebc6-992d-409b-e234-4053f80fa582"
   },
   "outputs": [],
   "source": [
    "# mount\n",
    "if google_colab:\n",
    "  from google.colab import drive \n",
    "  drive.mount('/content/drive')\n",
    "  %cd /content/drive/My Drive/git-work/BinaryBrain_ver3_develop/tests/python"
   ]
  },
  {
   "cell_type": "code",
   "execution_count": 5,
   "metadata": {
    "colab": {
     "base_uri": "https://localhost:8080/",
     "height": 486
    },
    "colab_type": "code",
    "executionInfo": {
     "elapsed": 138266,
     "status": "ok",
     "timestamp": 1577512425838,
     "user": {
      "displayName": "Ryuji Fuchikami",
      "photoUrl": "https://lh3.googleusercontent.com/a-/AAuE7mAPtXjBQtwUbhRHET1x_mcz7f1D-y_Z0oW5uE1j=s64",
      "userId": "03698805240163472906"
     },
     "user_tz": -540
    },
    "id": "pn5A-rOaVbvz",
    "outputId": "7aa990d5-a954-4b51-a1ff-5fb690db0756"
   },
   "outputs": [
    {
     "name": "stdout",
     "output_type": "stream",
     "text": [
      "\n",
      "name                     : GeForce GT 1030\n",
      "totalGlobalMem           : 2147483648\n",
      "sharedMemPerBlock        : 49152\n",
      "regsPerBlock             : 65536\n",
      "warpSize                 : 32\n",
      "memPitch                 : 2147483647\n",
      "maxThreadsPerBlock       : 1024\n",
      "maxThreadsDim[0]         : 1024\n",
      "maxThreadsDim[1]         : 1024\n",
      "maxThreadsDim[2]         : 64\n",
      "maxGridSize[0]           : 2147483647\n",
      "maxGridSize[1]           : 65535\n",
      "maxGridSize[2]           : 65535\n",
      "clockRate                : 1468000\n",
      "totalConstMem            : 65536\n",
      "major                    : 6\n",
      "minor                    : 1\n",
      "textureAlignment         : 512\n",
      "deviceOverlap            : 1\n",
      "multiProcessorCount      : 3\n",
      "kernelExecTimeoutEnabled : 1\n",
      "integrated               : 0\n",
      "canMapHostMemory         : 1\n",
      "computeMode              : 0\n",
      "\n",
      "\n"
     ]
    }
   ],
   "source": [
    "import binarybrain as bb\n",
    "prop = bb.get_device_properties()\n",
    "print(prop)"
   ]
  },
  {
   "cell_type": "markdown",
   "metadata": {
    "colab_type": "text",
    "id": "0L3nSwtTUK_z"
   },
   "source": [
    "# メインコード"
   ]
  },
  {
   "cell_type": "code",
   "execution_count": 6,
   "metadata": {
    "colab": {},
    "colab_type": "code",
    "id": "_29UQGXhJjlE"
   },
   "outputs": [],
   "source": [
    "import binarybrain as bb\n",
    "import numpy as np\n",
    "import os\n",
    "import sys\n",
    "import matplotlib.pyplot as plt\n",
    "from tqdm import tqdm\n",
    "from collections import OrderedDict\n"
   ]
  },
  {
   "cell_type": "code",
   "execution_count": 7,
   "metadata": {
    "colab": {
     "base_uri": "https://localhost:8080/",
     "height": 156
    },
    "colab_type": "code",
    "executionInfo": {
     "elapsed": 141042,
     "status": "ok",
     "timestamp": 1577512428630,
     "user": {
      "displayName": "Ryuji Fuchikami",
      "photoUrl": "https://lh3.googleusercontent.com/a-/AAuE7mAPtXjBQtwUbhRHET1x_mcz7f1D-y_Z0oW5uE1j=s64",
      "userId": "03698805240163472906"
     },
     "user_tz": -540
    },
    "id": "MllqIlMAJjlY",
    "outputId": "8718148b-e499-4c77-dc18-052960b2e89c"
   },
   "outputs": [],
   "source": [
    "# load MNIST data\n",
    "td = bb.load_mnist()"
   ]
  },
  {
   "cell_type": "code",
   "execution_count": 8,
   "metadata": {},
   "outputs": [
    {
     "data": {
      "text/plain": [
       "[10]"
      ]
     },
     "execution_count": 8,
     "metadata": {},
     "output_type": "execute_result"
    }
   ],
   "source": [
    "td['t_shape']"
   ]
  },
  {
   "cell_type": "code",
   "execution_count": 9,
   "metadata": {},
   "outputs": [],
   "source": [
    "x = td['x_train']\n",
    "t = td['t_train']"
   ]
  },
  {
   "cell_type": "code",
   "execution_count": 10,
   "metadata": {},
   "outputs": [],
   "source": [
    "t_img = np.zeros((len(x), 28*28, 11))"
   ]
  },
  {
   "cell_type": "code",
   "execution_count": 11,
   "metadata": {},
   "outputs": [],
   "source": [
    "i = 0\n",
    "mask = x[i] > 0.5"
   ]
  },
  {
   "cell_type": "code",
   "execution_count": 12,
   "metadata": {},
   "outputs": [
    {
     "data": {
      "text/plain": [
       "array([0., 0., 0., 0., 0., 1., 0., 0., 0., 0.], dtype=float32)"
      ]
     },
     "execution_count": 12,
     "metadata": {},
     "output_type": "execute_result"
    }
   ],
   "source": [
    "t[i]"
   ]
  },
  {
   "cell_type": "code",
   "execution_count": 13,
   "metadata": {},
   "outputs": [],
   "source": [
    "t_img[i, mask, 0:10] = t[i]"
   ]
  },
  {
   "cell_type": "code",
   "execution_count": 14,
   "metadata": {},
   "outputs": [],
   "source": [
    "# 結果改変\n",
    "def make_t_image(x, t):\n",
    "    t_img = np.zeros((len(x), 28*28, 11))\n",
    "    for i in range(len(x)):\n",
    "        mask0 = x[i] <= 0.5\n",
    "        mask1 = x[i] > 0.5\n",
    "        t_img[i, mask0, 10] = 1.0\n",
    "        t_img[i, mask1, 0:10] = t[i]\n",
    "    return t_img.reshape(-1, 28*28*11)\n",
    "\n",
    "td['t_train'] = make_t_image(td['x_train'], td['t_train'])\n",
    "td['t_test']  = make_t_image(td['x_test'], td['t_test'])\n",
    "td['t_shape'] = [28*28*11]"
   ]
  },
  {
   "cell_type": "markdown",
   "metadata": {
    "colab_type": "text",
    "id": "Sg9qRJaSJjlj"
   },
   "source": [
    "## 元レイヤー"
   ]
  },
  {
   "cell_type": "code",
   "execution_count": 15,
   "metadata": {
    "colab": {
     "base_uri": "https://localhost:8080/",
     "height": 34
    },
    "colab_type": "code",
    "executionInfo": {
     "elapsed": 214679,
     "status": "ok",
     "timestamp": 1577512502273,
     "user": {
      "displayName": "Ryuji Fuchikami",
      "photoUrl": "https://lh3.googleusercontent.com/a-/AAuE7mAPtXjBQtwUbhRHET1x_mcz7f1D-y_Z0oW5uE1j=s64",
      "userId": "03698805240163472906"
     },
     "user_tz": -540
    },
    "id": "vZkF0KnzJjln",
    "outputId": "1603e5b2-b2d8-497d-c919-d5618a92f307"
   },
   "outputs": [],
   "source": [
    "modulation_size = 8\n",
    "layer_rel2bin = bb.RealToBinary.create(modulation_size, framewise=True)\n",
    "layer_bin2rel = bb.BinaryToReal.create(modulation_size)\n",
    "\n",
    "# create layer\n",
    "layer0_affine  = bb.DenseAffine.create([36])\n",
    "layer0_norm    = bb.BatchNormalization.create()\n",
    "layer0_act     = bb.ReLU.create()\n",
    "#layer0_act     = bb.Binarize.create()\n",
    "layer1_affine  = bb.DenseAffine.create([36])\n",
    "layer1_norm    = bb.BatchNormalization.create()\n",
    "layer1_act     = bb.ReLU.create()\n",
    "layer2_affine  = bb.DenseAffine.create([36])\n",
    "layer2_norm    = bb.BatchNormalization.create()\n",
    "layer2_act     = bb.ReLU.create()\n",
    "layer3_affine  = bb.DenseAffine.create([36])\n",
    "layer3_norm    = bb.BatchNormalization.create()\n",
    "layer3_act     = bb.ReLU.create()\n",
    "layer4_affine  = bb.DenseAffine.create([36])\n",
    "layer4_norm    = bb.BatchNormalization.create()\n",
    "layer4_act     = bb.ReLU.create()\n",
    "layer5_affine  = bb.DenseAffine.create([36])\n",
    "layer5_norm    = bb.BatchNormalization.create()\n",
    "layer5_act     = bb.ReLU.create()\n",
    "layer6_affine  = bb.DenseAffine.create([11])\n",
    "layer6_norm    = bb.BatchNormalization.create()\n",
    "layer6_act     = bb.ReLU.create()\n",
    "\n",
    "# main network\n",
    "cnv0_sub = bb.Sequential.create()\n",
    "cnv0_sub.add(layer0_affine)\n",
    "cnv0_sub.add(layer0_norm)\n",
    "cnv0_sub.add(layer0_act)\n",
    "layer0_cnv = bb.LoweringConvolution.create(cnv0_sub, 3, 3, 1, 1, 'same')\n",
    "\n",
    "cnv1_sub = bb.Sequential.create()\n",
    "cnv1_sub.add(layer1_affine)\n",
    "cnv1_sub.add(layer1_norm)\n",
    "cnv1_sub.add(layer1_act)\n",
    "layer1_cnv = bb.LoweringConvolution.create(cnv1_sub, 3, 3, 1, 1, 'same')\n",
    "\n",
    "cnv2_sub = bb.Sequential.create()\n",
    "cnv2_sub.add(layer2_affine)\n",
    "cnv2_sub.add(layer2_norm)\n",
    "cnv2_sub.add(layer2_act)\n",
    "layer2_cnv = bb.LoweringConvolution.create(cnv2_sub, 3, 3, 1, 1, 'same')\n",
    "\n",
    "cnv3_sub = bb.Sequential.create()\n",
    "cnv3_sub.add(layer3_affine)\n",
    "cnv3_sub.add(layer3_norm)\n",
    "cnv3_sub.add(layer3_act)\n",
    "layer3_cnv = bb.LoweringConvolution.create(cnv3_sub, 3, 3, 1, 1, 'same')\n",
    "\n",
    "cnv4_sub = bb.Sequential.create()\n",
    "cnv4_sub.add(layer4_affine)\n",
    "cnv4_sub.add(layer4_norm)\n",
    "cnv4_sub.add(layer4_act)\n",
    "layer4_cnv = bb.LoweringConvolution.create(cnv4_sub, 3, 3, 1, 1, 'same')\n",
    "\n",
    "cnv5_sub = bb.Sequential.create()\n",
    "cnv5_sub.add(layer5_affine)\n",
    "cnv5_sub.add(layer5_norm)\n",
    "cnv5_sub.add(layer5_act)\n",
    "layer5_cnv = bb.LoweringConvolution.create(cnv5_sub, 3, 3, 1, 1, 'same')\n",
    "\n",
    "cnv6_sub = bb.Sequential.create()\n",
    "cnv6_sub.add(layer6_affine)\n",
    "cnv6_sub.add(layer6_norm)\n",
    "cnv6_sub.add(layer6_act)\n",
    "layer6_cnv = bb.LoweringConvolution.create(cnv6_sub, 3, 3, 1, 1, 'same')\n",
    "\n",
    "main_net = bb.Sequential.create()\n",
    "\n",
    "#main_net.add(layer_rel2bin)\n",
    "main_net.add(layer0_cnv)\n",
    "main_net.add(layer1_cnv)\n",
    "#main_net.add(bb.MaxPooling.create(2, 2))\n",
    "main_net.add(layer2_cnv)\n",
    "main_net.add(layer3_cnv)\n",
    "#main_net.add(bb.MaxPooling.create(2, 2))\n",
    "main_net.add(layer4_cnv)\n",
    "main_net.add(layer5_cnv)\n",
    "main_net.add(layer6_cnv)\n",
    "#main_net.add(layer_bin2rel)\n",
    "\n",
    "main_net.set_input_shape(td['x_shape'])\n",
    "\n",
    "# Load\n",
    "net_path = 'cifar10-dense-cnn'\n",
    "os.makedirs(net_path, exist_ok=True)\n",
    "\n",
    "if False:\n",
    "    layer0_affine.load_json(os.path.join(net_path, 'layer0_affine.json'))\n",
    "    layer1_affine.load_json(os.path.join(net_path, 'layer1_affine.json'))\n",
    "    layer2_affine.load_json(os.path.join(net_path, 'layer2_affine.json'))\n",
    "    layer3_affine.load_json(os.path.join(net_path, 'layer3_affine.json'))\n",
    "    layer4_affine.load_json(os.path.join(net_path, 'layer4_affine.json'))\n",
    "    layer5_affine.load_json(os.path.join(net_path, 'layer5_affine.json'))\n",
    "\n",
    "    layer0_norm.load_json(os.path.join(net_path, 'layer0_norm.json'))\n",
    "    layer1_norm.load_json(os.path.join(net_path, 'layer1_norm.json'))\n",
    "    layer2_norm.load_json(os.path.join(net_path, 'layer2_norm.json'))\n",
    "    layer3_norm.load_json(os.path.join(net_path, 'layer3_norm.json'))\n",
    "    layer4_norm.load_json(os.path.join(net_path, 'layer4_norm.json'))\n",
    "    layer5_norm.load_json(os.path.join(net_path, 'layer5_norm.json'))\n",
    "\n",
    "main_net.send_command('parameter_lock false')\n",
    "layer0_cnv.send_command('parameter_lock false')\n",
    "layer1_cnv.send_command('parameter_lock false')\n",
    "\n",
    "#loss      = bb.LossSoftmaxCrossEntropy.create()\n",
    "#metrics   = bb.MetricsCategoricalAccuracy.create()\n",
    "loss      = bb.LossMeanSquaredError.create()\n",
    "metrics   = bb.MetricsMeanSquaredError.create()\n",
    "optimizer = bb.OptimizerAdam.create()\n",
    "optimizer.set_variables(main_net.get_parameters(), main_net.get_gradients())"
   ]
  },
  {
   "cell_type": "code",
   "execution_count": 16,
   "metadata": {},
   "outputs": [
    {
     "name": "stdout",
     "output_type": "stream",
     "text": [
      "----------------------------------------------------------------------\n",
      "[Sequential] \n",
      "  --------------------------------------------------------------------\n",
      "  [LoweringConvolution] \n",
      "   filter size : (3, 3)\n",
      "   input  shape : {28, 28, 1}   output shape : {28, 28, 36}\n",
      "    ------------------------------------------------------------------\n",
      "    [ConvolutionIm2Col] \n",
      "     input  shape : {28, 28, 1}     output shape : {3, 3, 1}\n",
      "    ------------------------------------------------------------------\n",
      "    [Sequential] \n",
      "      ----------------------------------------------------------------\n",
      "      [DenseAffine] \n",
      "       input  shape : {3, 3, 1}       output shape : {36}\n",
      "      ----------------------------------------------------------------\n",
      "      [BatchNormalization] \n",
      "       input  shape : {36}       output shape : {36}\n",
      "      ----------------------------------------------------------------\n",
      "      [ReLU] \n",
      "       input  shape : {36}       output shape : {36}\n",
      "    ------------------------------------------------------------------\n",
      "    [ConvolutionCol2Im] \n",
      "     input  shape : {36}     output shape : {28, 28, 36}\n",
      "  --------------------------------------------------------------------\n",
      "  [LoweringConvolution] \n",
      "   filter size : (3, 3)\n",
      "   input  shape : {28, 28, 36}   output shape : {28, 28, 36}\n",
      "    ------------------------------------------------------------------\n",
      "    [ConvolutionIm2Col] \n",
      "     input  shape : {28, 28, 36}     output shape : {3, 3, 36}\n",
      "    ------------------------------------------------------------------\n",
      "    [Sequential] \n",
      "      ----------------------------------------------------------------\n",
      "      [DenseAffine] \n",
      "       input  shape : {3, 3, 36}       output shape : {36}\n",
      "      ----------------------------------------------------------------\n",
      "      [BatchNormalization] \n",
      "       input  shape : {36}       output shape : {36}\n",
      "      ----------------------------------------------------------------\n",
      "      [ReLU] \n",
      "       input  shape : {36}       output shape : {36}\n",
      "    ------------------------------------------------------------------\n",
      "    [ConvolutionCol2Im] \n",
      "     input  shape : {36}     output shape : {28, 28, 36}\n",
      "  --------------------------------------------------------------------\n",
      "  [LoweringConvolution] \n",
      "   filter size : (3, 3)\n",
      "   input  shape : {28, 28, 36}   output shape : {28, 28, 36}\n",
      "    ------------------------------------------------------------------\n",
      "    [ConvolutionIm2Col] \n",
      "     input  shape : {28, 28, 36}     output shape : {3, 3, 36}\n",
      "    ------------------------------------------------------------------\n",
      "    [Sequential] \n",
      "      ----------------------------------------------------------------\n",
      "      [DenseAffine] \n",
      "       input  shape : {3, 3, 36}       output shape : {36}\n",
      "      ----------------------------------------------------------------\n",
      "      [BatchNormalization] \n",
      "       input  shape : {36}       output shape : {36}\n",
      "      ----------------------------------------------------------------\n",
      "      [ReLU] \n",
      "       input  shape : {36}       output shape : {36}\n",
      "    ------------------------------------------------------------------\n",
      "    [ConvolutionCol2Im] \n",
      "     input  shape : {36}     output shape : {28, 28, 36}\n",
      "  --------------------------------------------------------------------\n",
      "  [LoweringConvolution] \n",
      "   filter size : (3, 3)\n",
      "   input  shape : {28, 28, 36}   output shape : {28, 28, 36}\n",
      "    ------------------------------------------------------------------\n",
      "    [ConvolutionIm2Col] \n",
      "     input  shape : {28, 28, 36}     output shape : {3, 3, 36}\n",
      "    ------------------------------------------------------------------\n",
      "    [Sequential] \n",
      "      ----------------------------------------------------------------\n",
      "      [DenseAffine] \n",
      "       input  shape : {3, 3, 36}       output shape : {36}\n",
      "      ----------------------------------------------------------------\n",
      "      [BatchNormalization] \n",
      "       input  shape : {36}       output shape : {36}\n",
      "      ----------------------------------------------------------------\n",
      "      [ReLU] \n",
      "       input  shape : {36}       output shape : {36}\n",
      "    ------------------------------------------------------------------\n",
      "    [ConvolutionCol2Im] \n",
      "     input  shape : {36}     output shape : {28, 28, 36}\n",
      "  --------------------------------------------------------------------\n",
      "  [LoweringConvolution] \n",
      "   filter size : (3, 3)\n",
      "   input  shape : {28, 28, 36}   output shape : {28, 28, 36}\n",
      "    ------------------------------------------------------------------\n",
      "    [ConvolutionIm2Col] \n",
      "     input  shape : {28, 28, 36}     output shape : {3, 3, 36}\n",
      "    ------------------------------------------------------------------\n",
      "    [Sequential] \n",
      "      ----------------------------------------------------------------\n",
      "      [DenseAffine] \n",
      "       input  shape : {3, 3, 36}       output shape : {36}\n",
      "      ----------------------------------------------------------------\n",
      "      [BatchNormalization] \n",
      "       input  shape : {36}       output shape : {36}\n",
      "      ----------------------------------------------------------------\n",
      "      [ReLU] \n",
      "       input  shape : {36}       output shape : {36}\n",
      "    ------------------------------------------------------------------\n",
      "    [ConvolutionCol2Im] \n",
      "     input  shape : {36}     output shape : {28, 28, 36}\n",
      "  --------------------------------------------------------------------\n",
      "  [LoweringConvolution] \n",
      "   filter size : (3, 3)\n",
      "   input  shape : {28, 28, 36}   output shape : {28, 28, 36}\n",
      "    ------------------------------------------------------------------\n",
      "    [ConvolutionIm2Col] \n",
      "     input  shape : {28, 28, 36}     output shape : {3, 3, 36}\n",
      "    ------------------------------------------------------------------\n",
      "    [Sequential] \n",
      "      ----------------------------------------------------------------\n",
      "      [DenseAffine] \n",
      "       input  shape : {3, 3, 36}       output shape : {36}\n",
      "      ----------------------------------------------------------------\n",
      "      [BatchNormalization] \n",
      "       input  shape : {36}       output shape : {36}\n",
      "      ----------------------------------------------------------------\n",
      "      [ReLU] \n",
      "       input  shape : {36}       output shape : {36}\n",
      "    ------------------------------------------------------------------\n",
      "    [ConvolutionCol2Im] \n",
      "     input  shape : {36}     output shape : {28, 28, 36}\n",
      "  --------------------------------------------------------------------\n",
      "  [LoweringConvolution] \n",
      "   filter size : (3, 3)\n",
      "   input  shape : {28, 28, 36}   output shape : {28, 28, 11}\n",
      "    ------------------------------------------------------------------\n",
      "    [ConvolutionIm2Col] \n",
      "     input  shape : {28, 28, 36}     output shape : {3, 3, 36}\n",
      "    ------------------------------------------------------------------\n",
      "    [Sequential] \n",
      "      ----------------------------------------------------------------\n",
      "      [DenseAffine] \n",
      "       input  shape : {3, 3, 36}       output shape : {11}\n",
      "      ----------------------------------------------------------------\n",
      "      [BatchNormalization] \n",
      "       input  shape : {11}       output shape : {11}\n",
      "      ----------------------------------------------------------------\n",
      "      [ReLU] \n",
      "       input  shape : {11}       output shape : {11}\n",
      "    ------------------------------------------------------------------\n",
      "    [ConvolutionCol2Im] \n",
      "     input  shape : {11}     output shape : {28, 28, 11}\n",
      "----------------------------------------------------------------------\n",
      "\n"
     ]
    }
   ],
   "source": [
    "print(main_net.get_info())"
   ]
  },
  {
   "cell_type": "code",
   "execution_count": 17,
   "metadata": {
    "colab": {
     "base_uri": "https://localhost:8080/",
     "height": 34
    },
    "colab_type": "code",
    "executionInfo": {
     "elapsed": 214679,
     "status": "ok",
     "timestamp": 1577512502273,
     "user": {
      "displayName": "Ryuji Fuchikami",
      "photoUrl": "https://lh3.googleusercontent.com/a-/AAuE7mAPtXjBQtwUbhRHET1x_mcz7f1D-y_Z0oW5uE1j=s64",
      "userId": "03698805240163472906"
     },
     "user_tz": -540
    },
    "id": "vZkF0KnzJjln",
    "outputId": "1603e5b2-b2d8-497d-c919-d5618a92f307"
   },
   "outputs": [
    {
     "name": "stderr",
     "output_type": "stream",
     "text": [
      "                                                                                                                       \r"
     ]
    },
    {
     "name": "stdout",
     "output_type": "stream",
     "text": [
      "epoch=1 test_MSE=0.083042 test_loss=0.083042 train_MSE=0.083012 train_loss=0.083012\n"
     ]
    },
    {
     "name": "stderr",
     "output_type": "stream",
     "text": [
      "                                                                                                                       \r"
     ]
    },
    {
     "name": "stdout",
     "output_type": "stream",
     "text": [
      "epoch=2 test_MSE=0.082770 test_loss=0.082770 train_MSE=0.082756 train_loss=0.082756\n"
     ]
    },
    {
     "name": "stderr",
     "output_type": "stream",
     "text": [
      "                                                                                                                       \r"
     ]
    },
    {
     "name": "stdout",
     "output_type": "stream",
     "text": [
      "epoch=3 test_MSE=0.082769 test_loss=0.082769 train_MSE=0.082755 train_loss=0.082755\n"
     ]
    },
    {
     "name": "stderr",
     "output_type": "stream",
     "text": [
      "                                                                                                                       \r"
     ]
    },
    {
     "name": "stdout",
     "output_type": "stream",
     "text": [
      "epoch=4 test_MSE=0.082584 test_loss=0.082584 train_MSE=0.082576 train_loss=0.082576\n"
     ]
    },
    {
     "name": "stderr",
     "output_type": "stream",
     "text": [
      "                                                                                                                       \r"
     ]
    },
    {
     "name": "stdout",
     "output_type": "stream",
     "text": [
      "epoch=5 test_MSE=0.082226 test_loss=0.082226 train_MSE=0.082234 train_loss=0.082234\n"
     ]
    },
    {
     "name": "stderr",
     "output_type": "stream",
     "text": [
      "                                                                                                                       \r"
     ]
    },
    {
     "name": "stdout",
     "output_type": "stream",
     "text": [
      "epoch=6 test_MSE=0.081822 test_loss=0.081822 train_MSE=0.081841 train_loss=0.081841\n"
     ]
    },
    {
     "name": "stderr",
     "output_type": "stream",
     "text": [
      "                                                                                                                       \r"
     ]
    },
    {
     "name": "stdout",
     "output_type": "stream",
     "text": [
      "epoch=7 test_MSE=0.081569 test_loss=0.081569 train_MSE=0.081594 train_loss=0.081594\n"
     ]
    },
    {
     "name": "stderr",
     "output_type": "stream",
     "text": [
      "                                                                                                                       \r"
     ]
    },
    {
     "name": "stdout",
     "output_type": "stream",
     "text": [
      "epoch=8 test_MSE=0.081239 test_loss=0.081239 train_MSE=0.081264 train_loss=0.081264\n"
     ]
    }
   ],
   "source": [
    "runner = bb.Runner(main_net, \"mnist-segment-dense-cnn\", loss, metrics, optimizer)\n",
    "runner.fitting(td, epoch_size=8, mini_batch_size=32, file_write=False, file_read=False, init_eval=False)"
   ]
  },
  {
   "cell_type": "code",
   "execution_count": 18,
   "metadata": {
    "colab": {
     "base_uri": "https://localhost:8080/",
     "height": 34
    },
    "colab_type": "code",
    "executionInfo": {
     "elapsed": 214679,
     "status": "ok",
     "timestamp": 1577512502273,
     "user": {
      "displayName": "Ryuji Fuchikami",
      "photoUrl": "https://lh3.googleusercontent.com/a-/AAuE7mAPtXjBQtwUbhRHET1x_mcz7f1D-y_Z0oW5uE1j=s64",
      "userId": "03698805240163472906"
     },
     "user_tz": -540
    },
    "id": "vZkF0KnzJjln",
    "outputId": "1603e5b2-b2d8-497d-c919-d5618a92f307"
   },
   "outputs": [],
   "source": [
    "if True:\n",
    "    layer0_affine.save_json(os.path.join(net_path, 'layer0_affine.json'))\n",
    "    layer1_affine.save_json(os.path.join(net_path, 'layer1_affine.json'))\n",
    "    layer2_affine.save_json(os.path.join(net_path, 'layer2_affine.json'))\n",
    "    layer3_affine.save_json(os.path.join(net_path, 'layer3_affine.json'))\n",
    "    layer4_affine.save_json(os.path.join(net_path, 'layer4_affine.json'))\n",
    "    layer5_affine.save_json(os.path.join(net_path, 'layer5_affine.json'))\n",
    "\n",
    "    layer0_norm.save_json(os.path.join(net_path, 'layer0_norm.json'))\n",
    "    layer1_norm.save_json(os.path.join(net_path, 'layer1_norm.json'))\n",
    "    layer2_norm.save_json(os.path.join(net_path, 'layer2_norm.json'))\n",
    "    layer3_norm.save_json(os.path.join(net_path, 'layer3_norm.json'))\n",
    "    layer4_norm.save_json(os.path.join(net_path, 'layer4_norm.json'))\n",
    "    layer5_norm.save_json(os.path.join(net_path, 'layer5_norm.json'))"
   ]
  },
  {
   "cell_type": "code",
   "execution_count": 19,
   "metadata": {},
   "outputs": [
    {
     "name": "stderr",
     "output_type": "stream",
     "text": [
      "                                                                                                                       \r"
     ]
    },
    {
     "name": "stdout",
     "output_type": "stream",
     "text": [
      "epoch=1 test_accuracy=0.270900 test_loss=9.055107 train_accuracy=0.263750 train_loss=9.055155\n"
     ]
    },
    {
     "name": "stderr",
     "output_type": "stream",
     "text": [
      "                                                                                                                       \r"
     ]
    },
    {
     "name": "stdout",
     "output_type": "stream",
     "text": [
      "epoch=2 test_accuracy=0.270400 test_loss=9.056833 train_accuracy=0.264500 train_loss=9.056866\n"
     ]
    }
   ],
   "source": [
    "main_net.send_command('parameter_lock true')\n",
    "\n",
    "modulation_size = 4\n",
    "layer_rel2bin = bb.RealToBinary.create(modulation_size, framewise=True)\n",
    "layer_bin2rel = bb.BinaryToReal.create(modulation_size)\n",
    "\n",
    "net = bb.Sequential.create()\n",
    "net.add(layer_rel2bin)\n",
    "net.add(main_net)\n",
    "net.add(layer_bin2rel)\n",
    "net.set_input_shape(td['x_shape'])\n",
    "\n",
    "loss      = bb.LossSoftmaxCrossEntropy.create()\n",
    "metrics   = bb.MetricsCategoricalAccuracy.create()\n",
    "optimizer = bb.OptimizerAdam.create()\n",
    "optimizer.set_variables(net.get_parameters(), net.get_gradients())\n",
    "\n",
    "runner = bb.Runner(net, \"mnist-dense-cnn-binary\", loss, metrics, optimizer)\n",
    "runner.fitting(td, epoch_size=2, mini_batch_size=32, file_write=False, file_read=False)"
   ]
  }
 ],
 "metadata": {
  "accelerator": "GPU",
  "colab": {
   "collapsed_sections": [],
   "name": "MnistDenseCnnBinaryDistillation.ipynb",
   "provenance": []
  },
  "file_extension": ".py",
  "kernelspec": {
   "display_name": "Python 3",
   "language": "python",
   "name": "python3"
  },
  "language_info": {
   "codemirror_mode": {
    "name": "ipython",
    "version": 3
   },
   "file_extension": ".py",
   "mimetype": "text/x-python",
   "name": "python",
   "nbconvert_exporter": "python",
   "pygments_lexer": "ipython3",
   "version": "3.7.4"
  },
  "mimetype": "text/x-python",
  "name": "python",
  "npconvert_exporter": "python",
  "pygments_lexer": "ipython3",
  "version": 3
 },
 "nbformat": 4,
 "nbformat_minor": 1
}
