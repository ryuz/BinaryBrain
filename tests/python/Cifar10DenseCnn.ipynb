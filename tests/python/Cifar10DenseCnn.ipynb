{
 "cells": [
  {
   "cell_type": "code",
   "execution_count": 1,
   "metadata": {
    "colab": {},
    "colab_type": "code",
    "id": "MW6OjiErSoLf"
   },
   "outputs": [],
   "source": [
    "google_colab = False"
   ]
  },
  {
   "cell_type": "markdown",
   "metadata": {
    "colab_type": "text",
    "id": "atEZew4ESgqb"
   },
   "source": [
    "# Google Colab用事前準備"
   ]
  },
  {
   "cell_type": "code",
   "execution_count": 2,
   "metadata": {
    "colab": {
     "base_uri": "https://localhost:8080/",
     "height": 1000
    },
    "colab_type": "code",
    "executionInfo": {
     "elapsed": 105496,
     "status": "ok",
     "timestamp": 1577512393031,
     "user": {
      "displayName": "Ryuji Fuchikami",
      "photoUrl": "https://lh3.googleusercontent.com/a-/AAuE7mAPtXjBQtwUbhRHET1x_mcz7f1D-y_Z0oW5uE1j=s64",
      "userId": "03698805240163472906"
     },
     "user_tz": -540
    },
    "id": "ngtL_LdxSIee",
    "outputId": "5c0f7399-73b1-4469-f589-c3ae2112fa16"
   },
   "outputs": [],
   "source": [
    "# install\n",
    "if google_colab:\n",
    "  !pip install pybind11\n",
    "  %cd /content\n",
    "  !nvcc -V\n",
    "  !sudo rm -fr BinaryBrain\n",
    "  !rm -fr BinaryBrain\n",
    "  !git clone --recursive -b ver3_develop https://github.com/ryuz/BinaryBrain.git\n",
    "  %cd /content/BinaryBrain/python\n",
    "  !sh copy_src.sh\n",
    "  !python3 setup.py build\n",
    "  !python3 setup.py develop\n",
    "\n",
    "  import binarybrain as bb"
   ]
  },
  {
   "cell_type": "code",
   "execution_count": 3,
   "metadata": {
    "colab": {},
    "colab_type": "code",
    "id": "MC1I5B6FcXuZ"
   },
   "outputs": [
    {
     "data": {
      "text/plain": [
       "<module 'importlib' from 'c:\\\\users\\\\ryuji\\\\appdata\\\\local\\\\programs\\\\python\\\\python37\\\\lib\\\\importlib\\\\__init__.py'>"
      ]
     },
     "execution_count": 3,
     "metadata": {},
     "output_type": "execute_result"
    }
   ],
   "source": [
    "import binarybrain as bb\n",
    "import importlib\n",
    "importlib.reload(bb)\n",
    "importlib"
   ]
  },
  {
   "cell_type": "code",
   "execution_count": 4,
   "metadata": {
    "colab": {
     "base_uri": "https://localhost:8080/",
     "height": 141
    },
    "colab_type": "code",
    "executionInfo": {
     "elapsed": 138272,
     "status": "ok",
     "timestamp": 1577512425833,
     "user": {
      "displayName": "Ryuji Fuchikami",
      "photoUrl": "https://lh3.googleusercontent.com/a-/AAuE7mAPtXjBQtwUbhRHET1x_mcz7f1D-y_Z0oW5uE1j=s64",
      "userId": "03698805240163472906"
     },
     "user_tz": -540
    },
    "id": "mRUykJrZJoJf",
    "outputId": "2d2bebc6-992d-409b-e234-4053f80fa582"
   },
   "outputs": [],
   "source": [
    "# mount\n",
    "if google_colab:\n",
    "  from google.colab import drive \n",
    "  drive.mount('/content/drive')\n",
    "  %cd /content/drive/My Drive/git-work/BinaryBrain_ver3_develop/tests/python"
   ]
  },
  {
   "cell_type": "code",
   "execution_count": 5,
   "metadata": {
    "colab": {
     "base_uri": "https://localhost:8080/",
     "height": 486
    },
    "colab_type": "code",
    "executionInfo": {
     "elapsed": 138266,
     "status": "ok",
     "timestamp": 1577512425838,
     "user": {
      "displayName": "Ryuji Fuchikami",
      "photoUrl": "https://lh3.googleusercontent.com/a-/AAuE7mAPtXjBQtwUbhRHET1x_mcz7f1D-y_Z0oW5uE1j=s64",
      "userId": "03698805240163472906"
     },
     "user_tz": -540
    },
    "id": "pn5A-rOaVbvz",
    "outputId": "7aa990d5-a954-4b51-a1ff-5fb690db0756"
   },
   "outputs": [
    {
     "name": "stdout",
     "output_type": "stream",
     "text": [
      "\n",
      "name                     : GeForce GT 1030\n",
      "totalGlobalMem           : 2147483648\n",
      "sharedMemPerBlock        : 49152\n",
      "regsPerBlock             : 65536\n",
      "warpSize                 : 32\n",
      "memPitch                 : 2147483647\n",
      "maxThreadsPerBlock       : 1024\n",
      "maxThreadsDim[0]         : 1024\n",
      "maxThreadsDim[1]         : 1024\n",
      "maxThreadsDim[2]         : 64\n",
      "maxGridSize[0]           : 2147483647\n",
      "maxGridSize[1]           : 65535\n",
      "maxGridSize[2]           : 65535\n",
      "clockRate                : 1468000\n",
      "totalConstMem            : 65536\n",
      "major                    : 6\n",
      "minor                    : 1\n",
      "textureAlignment         : 512\n",
      "deviceOverlap            : 1\n",
      "multiProcessorCount      : 3\n",
      "kernelExecTimeoutEnabled : 1\n",
      "integrated               : 0\n",
      "canMapHostMemory         : 1\n",
      "computeMode              : 0\n",
      "\n",
      "\n"
     ]
    }
   ],
   "source": [
    "import binarybrain as bb\n",
    "prop = bb.get_device_properties()\n",
    "print(prop)"
   ]
  },
  {
   "cell_type": "markdown",
   "metadata": {
    "colab_type": "text",
    "id": "0L3nSwtTUK_z"
   },
   "source": [
    "# メインコード"
   ]
  },
  {
   "cell_type": "code",
   "execution_count": 6,
   "metadata": {
    "colab": {},
    "colab_type": "code",
    "id": "_29UQGXhJjlE"
   },
   "outputs": [],
   "source": [
    "import binarybrain as bb\n",
    "import numpy as np\n",
    "import os\n",
    "import sys\n",
    "from tqdm import tqdm\n",
    "from collections import OrderedDict"
   ]
  },
  {
   "cell_type": "code",
   "execution_count": 7,
   "metadata": {
    "colab": {
     "base_uri": "https://localhost:8080/",
     "height": 156
    },
    "colab_type": "code",
    "executionInfo": {
     "elapsed": 141042,
     "status": "ok",
     "timestamp": 1577512428630,
     "user": {
      "displayName": "Ryuji Fuchikami",
      "photoUrl": "https://lh3.googleusercontent.com/a-/AAuE7mAPtXjBQtwUbhRHET1x_mcz7f1D-y_Z0oW5uE1j=s64",
      "userId": "03698805240163472906"
     },
     "user_tz": -540
    },
    "id": "MllqIlMAJjlY",
    "outputId": "8718148b-e499-4c77-dc18-052960b2e89c"
   },
   "outputs": [],
   "source": [
    "# load MNIST data\n",
    "td = bb.load_cifar10()"
   ]
  },
  {
   "cell_type": "markdown",
   "metadata": {
    "colab_type": "text",
    "id": "Sg9qRJaSJjlj"
   },
   "source": [
    "## 元レイヤー"
   ]
  },
  {
   "cell_type": "code",
   "execution_count": null,
   "metadata": {
    "colab": {
     "base_uri": "https://localhost:8080/",
     "height": 34
    },
    "colab_type": "code",
    "executionInfo": {
     "elapsed": 214679,
     "status": "ok",
     "timestamp": 1577512502273,
     "user": {
      "displayName": "Ryuji Fuchikami",
      "photoUrl": "https://lh3.googleusercontent.com/a-/AAuE7mAPtXjBQtwUbhRHET1x_mcz7f1D-y_Z0oW5uE1j=s64",
      "userId": "03698805240163472906"
     },
     "user_tz": -540
    },
    "id": "vZkF0KnzJjln",
    "outputId": "1603e5b2-b2d8-497d-c919-d5618a92f307"
   },
   "outputs": [
    {
     "name": "stderr",
     "output_type": "stream",
     "text": [
      "  0%|                                                      | 1/1563 [00:00<08:46,  2.97it/s, loss=1.84, accuracy=0.688]"
     ]
    },
    {
     "name": "stdout",
     "output_type": "stream",
     "text": [
      "[initial] test_accuracy=0.591500 test_loss=1.861303 train_accuracy=0.640520 train_loss=1.830796\n"
     ]
    },
    {
     "name": "stderr",
     "output_type": "stream",
     "text": [
      "                                                                                                                       \r"
     ]
    },
    {
     "name": "stdout",
     "output_type": "stream",
     "text": [
      "epoch=1 test_accuracy=0.623200 test_loss=1.848601 train_accuracy=0.673900 train_loss=1.814997\n"
     ]
    },
    {
     "name": "stderr",
     "output_type": "stream",
     "text": [
      " 12%|██████                                              | 181/1563 [00:54<06:44,  3.42it/s, loss=1.84, accuracy=0.656]"
     ]
    }
   ],
   "source": [
    "modulation_size = 8\n",
    "layer_rel2bin = bb.RealToBinary.create(modulation_size, framewise=True)\n",
    "layer_bin2rel = bb.BinaryToReal.create(modulation_size)\n",
    "\n",
    "# create layer\n",
    "layer0_affine  = bb.DenseAffine.create([32])\n",
    "layer0_norm    = bb.BatchNormalization.create()\n",
    "layer0_act     = bb.Binarize.create()\n",
    "layer1_affine  = bb.DenseAffine.create([32])\n",
    "layer1_norm    = bb.BatchNormalization.create()\n",
    "layer1_act     = bb.Binarize.create()\n",
    "layer2_affine  = bb.DenseAffine.create([64])\n",
    "layer2_norm    = bb.BatchNormalization.create()\n",
    "layer2_act     = bb.Binarize.create()\n",
    "layer3_affine  = bb.DenseAffine.create([64])\n",
    "layer3_norm    = bb.BatchNormalization.create()\n",
    "layer3_act     = bb.Binarize.create()\n",
    "layer4_affine  = bb.DenseAffine.create([512])\n",
    "layer4_norm    = bb.BatchNormalization.create()\n",
    "layer4_act     = bb.Binarize.create()\n",
    "layer5_affine  = bb.DenseAffine.create([10])\n",
    "layer5_norm    = bb.BatchNormalization.create()\n",
    "layer5_act     = bb.Binarize.create()\n",
    "#layer5_act     = bb.ReLU.create()\n",
    "\n",
    "# main network\n",
    "cnv0_sub = bb.Sequential.create()\n",
    "cnv0_sub.add(layer0_affine)\n",
    "cnv0_sub.add(layer0_norm)\n",
    "cnv0_sub.add(layer0_act)\n",
    "layer0_cnv = bb.LoweringConvolution.create(cnv0_sub, 3, 3)\n",
    "\n",
    "cnv1_sub = bb.Sequential.create()\n",
    "cnv1_sub.add(layer1_affine)\n",
    "cnv1_sub.add(layer1_norm)\n",
    "cnv1_sub.add(layer1_act)\n",
    "layer1_cnv = bb.LoweringConvolution.create(cnv1_sub, 3, 3)\n",
    "\n",
    "cnv2_sub = bb.Sequential.create()\n",
    "cnv2_sub.add(layer2_affine)\n",
    "cnv2_sub.add(layer2_norm)\n",
    "cnv2_sub.add(layer2_act)\n",
    "layer2_cnv = bb.LoweringConvolution.create(cnv2_sub, 3, 3)\n",
    "\n",
    "cnv3_sub = bb.Sequential.create()\n",
    "cnv3_sub.add(layer3_affine)\n",
    "cnv3_sub.add(layer3_norm)\n",
    "cnv3_sub.add(layer3_act)\n",
    "layer3_cnv = bb.LoweringConvolution.create(cnv3_sub, 3, 3)\n",
    "\n",
    "main_net = bb.Sequential.create()\n",
    "\n",
    "main_net.add(layer_rel2bin)\n",
    "main_net.add(layer0_cnv)\n",
    "main_net.add(layer1_cnv)\n",
    "main_net.add(bb.MaxPooling.create(2, 2))\n",
    "main_net.add(layer2_cnv)\n",
    "main_net.add(layer3_cnv)\n",
    "main_net.add(bb.MaxPooling.create(2, 2))\n",
    "main_net.add(layer4_affine)\n",
    "main_net.add(layer4_norm)\n",
    "main_net.add(layer4_act)\n",
    "main_net.add(layer5_affine)\n",
    "main_net.add(layer5_norm)\n",
    "main_net.add(layer5_act)\n",
    "main_net.add(layer_bin2rel)\n",
    "\n",
    "main_net.set_input_shape(td['x_shape'])\n",
    "\n",
    "# Load\n",
    "net_path = 'cifar10-dense-cnn'\n",
    "os.makedirs(net_path, exist_ok=True)\n",
    "\n",
    "if True:\n",
    "    layer0_affine.load_json(os.path.join(net_path, 'layer0_affine.json'))\n",
    "    layer1_affine.load_json(os.path.join(net_path, 'layer1_affine.json'))\n",
    "    layer2_affine.load_json(os.path.join(net_path, 'layer2_affine.json'))\n",
    "    layer3_affine.load_json(os.path.join(net_path, 'layer3_affine.json'))\n",
    "    layer4_affine.load_json(os.path.join(net_path, 'layer4_affine.json'))\n",
    "    layer5_affine.load_json(os.path.join(net_path, 'layer5_affine.json'))\n",
    "\n",
    "    layer0_norm.load_json(os.path.join(net_path, 'layer0_norm.json'))\n",
    "    layer1_norm.load_json(os.path.join(net_path, 'layer1_norm.json'))\n",
    "    layer2_norm.load_json(os.path.join(net_path, 'layer2_norm.json'))\n",
    "    layer3_norm.load_json(os.path.join(net_path, 'layer3_norm.json'))\n",
    "    layer4_norm.load_json(os.path.join(net_path, 'layer4_norm.json'))\n",
    "    layer5_norm.load_json(os.path.join(net_path, 'layer5_norm.json'))\n",
    "\n",
    "main_net.send_command('parameter_lock false')\n",
    "layer0_cnv.send_command('parameter_lock false')\n",
    "layer1_cnv.send_command('parameter_lock false')\n",
    "\n",
    "loss      = bb.LossSoftmaxCrossEntropy.create()\n",
    "metrics   = bb.MetricsCategoricalAccuracy.create()\n",
    "optimizer = bb.OptimizerAdam.create()\n",
    "optimizer.set_variables(main_net.get_parameters(), main_net.get_gradients())\n",
    "\n",
    "runner = bb.Runner(main_net, \"cifar10-dense-cnn-binary\", loss, metrics, optimizer)\n",
    "runner.fitting(td, epoch_size=16, mini_batch_size=32, file_write=False, file_read=False, init_eval=True)"
   ]
  },
  {
   "cell_type": "code",
   "execution_count": null,
   "metadata": {
    "colab": {
     "base_uri": "https://localhost:8080/",
     "height": 34
    },
    "colab_type": "code",
    "executionInfo": {
     "elapsed": 214679,
     "status": "ok",
     "timestamp": 1577512502273,
     "user": {
      "displayName": "Ryuji Fuchikami",
      "photoUrl": "https://lh3.googleusercontent.com/a-/AAuE7mAPtXjBQtwUbhRHET1x_mcz7f1D-y_Z0oW5uE1j=s64",
      "userId": "03698805240163472906"
     },
     "user_tz": -540
    },
    "id": "vZkF0KnzJjln",
    "outputId": "1603e5b2-b2d8-497d-c919-d5618a92f307"
   },
   "outputs": [],
   "source": [
    "if True:\n",
    "    layer0_affine.save_json(os.path.join(net_path, 'layer0_affine.json'))\n",
    "    layer1_affine.save_json(os.path.join(net_path, 'layer1_affine.json'))\n",
    "    layer2_affine.save_json(os.path.join(net_path, 'layer2_affine.json'))\n",
    "    layer3_affine.save_json(os.path.join(net_path, 'layer3_affine.json'))\n",
    "    layer4_affine.save_json(os.path.join(net_path, 'layer4_affine.json'))\n",
    "    layer5_affine.save_json(os.path.join(net_path, 'layer5_affine.json'))\n",
    "\n",
    "    layer0_norm.save_json(os.path.join(net_path, 'layer0_norm.json'))\n",
    "    layer1_norm.save_json(os.path.join(net_path, 'layer1_norm.json'))\n",
    "    layer2_norm.save_json(os.path.join(net_path, 'layer2_norm.json'))\n",
    "    layer3_norm.save_json(os.path.join(net_path, 'layer3_norm.json'))\n",
    "    layer4_norm.save_json(os.path.join(net_path, 'layer4_norm.json'))\n",
    "    layer5_norm.save_json(os.path.join(net_path, 'layer5_norm.json'))"
   ]
  }
 ],
 "metadata": {
  "accelerator": "GPU",
  "colab": {
   "collapsed_sections": [],
   "name": "MnistDenseCnnBinaryDistillation.ipynb",
   "provenance": []
  },
  "file_extension": ".py",
  "kernelspec": {
   "display_name": "Python 3",
   "language": "python",
   "name": "python3"
  },
  "language_info": {
   "codemirror_mode": {
    "name": "ipython",
    "version": 3
   },
   "file_extension": ".py",
   "mimetype": "text/x-python",
   "name": "python",
   "nbconvert_exporter": "python",
   "pygments_lexer": "ipython3",
   "version": "3.7.4"
  },
  "mimetype": "text/x-python",
  "name": "python",
  "npconvert_exporter": "python",
  "pygments_lexer": "ipython3",
  "version": 3
 },
 "nbformat": 4,
 "nbformat_minor": 1
}
