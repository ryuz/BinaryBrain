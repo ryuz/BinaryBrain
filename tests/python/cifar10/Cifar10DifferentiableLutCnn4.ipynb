{
 "cells": [
  {
   "cell_type": "markdown",
   "metadata": {},
   "source": [
    "# 微分可能LUTモデルによるCNNでのCIFAR-10学習\n",
    "\n",
    "Differentiable LUTモデルで畳み込み層を形成して、一般的なデータに対してCNNによる回路学習を行います。 "
   ]
  },
  {
   "cell_type": "code",
   "execution_count": 1,
   "metadata": {},
   "outputs": [],
   "source": [
    "import os\n",
    "import numpy as np\n",
    "from tqdm.notebook import tqdm\n",
    "\n",
    "import torch\n",
    "import torchvision\n",
    "import torchvision.transforms as transforms\n",
    "\n",
    "import binarybrain as bb"
   ]
  },
  {
   "cell_type": "markdown",
   "metadata": {},
   "source": [
    "### データセット\n",
    "\n",
    "データセットの準備には torchvision を使います"
   ]
  },
  {
   "cell_type": "code",
   "execution_count": 2,
   "metadata": {},
   "outputs": [
    {
     "name": "stdout",
     "output_type": "stream",
     "text": [
      "Files already downloaded and verified\n",
      "Files already downloaded and verified\n"
     ]
    }
   ],
   "source": [
    "# configuration\n",
    "net_name              = 'Cifar10DifferentiableLutCnn_ave1'\n",
    "data_path             = os.path.join('./data/', net_name)\n",
    "rtl_sim_path          = '../../verilog/cifar10'\n",
    "rtl_module_name       = 'Cifar10LutCnn'\n",
    "output_velilog_file   = os.path.join(data_path, rtl_module_name + '.v')\n",
    "sim_velilog_file      = os.path.join(rtl_sim_path, rtl_module_name + '.v')\n",
    "\n",
    "bin_mode              = True\n",
    "frame_modulation_size = 7\n",
    "depth_modulation_size = 15\n",
    "epochs                = 8\n",
    "mini_batch_size       = 32\n",
    "\n",
    "# dataset\n",
    "dataset_path = './data/'\n",
    "dataset_train = torchvision.datasets.CIFAR10(root=dataset_path, train=True, transform=transforms.ToTensor(), download=True)\n",
    "dataset_test  = torchvision.datasets.CIFAR10(root=dataset_path, train=False, transform=transforms.ToTensor(), download=True)\n",
    "loader_train = torch.utils.data.DataLoader(dataset=dataset_train, batch_size=mini_batch_size, shuffle=True, num_workers=2)\n",
    "loader_test  = torch.utils.data.DataLoader(dataset=dataset_test,  batch_size=mini_batch_size, shuffle=False, num_workers=2)"
   ]
  },
  {
   "cell_type": "markdown",
   "metadata": {},
   "source": [
    "## ネットワーク構築\n",
    "\n",
    "Convolution2d を使って畳み込み層を作ります。<br>\n",
    "Convolution2d は指定した層を im2col と col2im で挟み込んで Lowering による畳み込みをサポートします。<br>\n",
    "DenseAffine を Lowering すると一般にCNNで知られる畳み込み層になりますが、LUT-Network では\n",
    "ここに DifferentiableLut を組み合わせて作った層を設定することでDenseAffineとは異なる効率の良い畳み込み層を実現します。"
   ]
  },
  {
   "cell_type": "code",
   "execution_count": 3,
   "metadata": {},
   "outputs": [],
   "source": [
    "# バイナリ時は BIT型を使えばメモリ削減可能\n",
    "bin_dtype = bb.DType.BIT if bin_mode else bb.DType.FP32\n",
    "\n",
    "class DifferentiableLutBlock(bb.Sequential):\n",
    "    def __init__(self, output_shape, depth, name=None, batch_norm=True, binarize=True, average=True, bin_dtype=bb.DType.FP32):\n",
    "        self.layers = []\n",
    "        for i in range(depth):\n",
    "            if name is None:\n",
    "                layer_name = None\n",
    "            else:\n",
    "                layer_name = name + '_' + str(i)\n",
    "            \n",
    "            connection ='serial' if i < depth-1 else 'random'\n",
    "            if i == 0 and average:\n",
    "                self.layers.insert(0, bb.AverageLut(output_shape, connection=connection, binarize=binarize, name=layer_name, N=4, bin_dtype=bin_dtype))\n",
    "            else:\n",
    "                self.layers.insert(0, bb.DifferentiableLut(output_shape, connection=connection, batch_norm=batch_norm, binarize=binarize, name=layer_name, N=4, bin_dtype=bin_dtype))\n",
    "            output_shape[0] *= 4\n",
    "        super(DifferentiableLutBlock, self).__init__(self.layers, name=name)"
   ]
  },
  {
   "cell_type": "code",
   "execution_count": 4,
   "metadata": {},
   "outputs": [],
   "source": [
    "class DifferentiableLutConvolution2d(bb.Convolution2d):\n",
    "    def __init__(self, output_ch, depth, filter_size=(3, 3), padding='valid', batch_norm=True, binarize=True, name=None, fw_dtype=bb.DType.FP32):\n",
    "        super(DifferentiableLutConvolution2d, self).__init__(\n",
    "                DifferentiableLutBlock([output_ch, 1, 1], depth, batch_norm=batch_norm, binarize=binarize, name=name, bin_dtype=fw_dtype),\n",
    "                filter_size=filter_size, padding=padding, name=name, fw_dtype=fw_dtype)"
   ]
  },
  {
   "cell_type": "code",
   "execution_count": 5,
   "metadata": {},
   "outputs": [],
   "source": [
    "# define network\n",
    "net = bb.Sequential([\n",
    "            bb.RealToBinary(frame_modulation_size=frame_modulation_size, depth_modulation_size=depth_modulation_size, bin_dtype=bin_dtype),\n",
    "            bb.Sequential([\n",
    "                bb.Convolution2d(  # pointwise\n",
    "                    bb.Sequential([\n",
    "                        DifferentiableLutBlock([32], 3, bin_dtype=bin_dtype),\n",
    "                    ]),\n",
    "                    filter_size=(1, 1),\n",
    "                    fw_dtype=bin_dtype),\n",
    "\n",
    "                bb.Convolution2d(  # 32x32 -> 30x30\n",
    "                    bb.Sequential([\n",
    "                        DifferentiableLutBlock([32], 3, bin_dtype=bin_dtype),\n",
    "                    ]),\n",
    "                    filter_size=(3, 3),\n",
    "                    fw_dtype=bin_dtype),\n",
    "                bb.Convolution2d(  # 30x30 -> 28x28\n",
    "                    bb.Sequential([\n",
    "                        DifferentiableLutBlock([64], 3, bin_dtype=bin_dtype),\n",
    "                    ]),\n",
    "                    filter_size=(3, 3),\n",
    "                    fw_dtype=bin_dtype),\n",
    "                bb.MaxPooling(filter_size=(2, 2), fw_dtype=bin_dtype),  # 28x28-> 14x14\n",
    "            ]),\n",
    "            bb.Sequential([\n",
    "                bb.Convolution2d(  # 14x14-> 12x12\n",
    "                    bb.Sequential([\n",
    "                        DifferentiableLutBlock([64], 3, bin_dtype=bin_dtype),\n",
    "                    ]),\n",
    "                    filter_size=(3, 3),\n",
    "                    fw_dtype=bin_dtype),\n",
    "                bb.Convolution2d(  # 12x12-> 10x10\n",
    "                    bb.Sequential([\n",
    "                        DifferentiableLutBlock([128], 3, bin_dtype=bin_dtype),\n",
    "                    ]),\n",
    "                    filter_size=(3, 3),\n",
    "                    fw_dtype=bin_dtype),\n",
    "                bb.MaxPooling(filter_size=(2, 2), fw_dtype=bin_dtype),  # 10x10-> 5x5\n",
    "            ]),\n",
    "            bb.Sequential([\n",
    "                bb.Convolution2d(  # 5x5-> 1x1\n",
    "                    bb.Sequential([\n",
    "                        DifferentiableLutBlock([512], 2, bin_dtype=bin_dtype),\n",
    "                        DifferentiableLutBlock([10], 3, average=True, bin_dtype=bin_dtype),\n",
    "                    ]),\n",
    "                    filter_size=(5, 5),\n",
    "                    fw_dtype=bin_dtype),\n",
    "            ]),\n",
    "            bb.BinaryToReal(frame_integration_size=frame_modulation_size, bin_dtype=bin_dtype)\n",
    "        ])\n",
    "\n",
    "net.set_input_shape([3, 32, 32])\n",
    "\n",
    "if bin_mode:\n",
    "    net.send_command(\"binary true\")\n",
    "\n",
    "# print(net.get_info()) # ネットを表示"
   ]
  },
  {
   "cell_type": "code",
   "execution_count": 6,
   "metadata": {},
   "outputs": [
    {
     "name": "stdout",
     "output_type": "stream",
     "text": [
      "----------------------------------------------------------------------\n",
      "[Sequential] \n",
      " input  shape : [3, 32, 32] output shape : [10, 1, 1]\n",
      "  --------------------------------------------------------------------\n",
      "  [RealToBinary] \n",
      "   input  shape : {3, 32, 32} output shape : {45, 32, 32}\n",
      "  --------------------------------------------------------------------\n",
      "  [Sequential] \n",
      "   input  shape : [45, 32, 32]   output shape : [64, 14, 14]\n",
      "    ------------------------------------------------------------------\n",
      "    [Convolution2d] \n",
      "     input  shape : [45, 32, 32]     output shape : [32, 32, 32]\n",
      "      ----------------------------------------------------------------\n",
      "      [ConvolutionIm2Col] \n",
      "       input  shape : {45, 32, 32} output shape : {45, 1, 1}\n",
      "      ----------------------------------------------------------------\n",
      "      [Sequential] \n",
      "       input  shape : [45, 1, 1]       output shape : [32]\n",
      "        --------------------------------------------------------------\n",
      "        [Sequential] \n",
      "         input  shape : [45, 1, 1]         output shape : [32]\n",
      "          ------------------------------------------------------------\n",
      "          [DifferentiableLut4] \n",
      "           input  shape : {45, 1, 1} output shape : {512}\n",
      "           connection : random\n",
      "           binary : 1           batch_norm : 1\n",
      "          ------------------------------------------------------------\n",
      "          [DifferentiableLut4] \n",
      "           input  shape : {512} output shape : {128}\n",
      "           connection : serial\n",
      "           binary : 1           batch_norm : 1\n",
      "          ------------------------------------------------------------\n",
      "          [AverageLut] \n",
      "           input  shape : {128} output shape : {32}\n",
      "           connection : serial\n",
      "      ----------------------------------------------------------------\n",
      "      [ConvolutionCol2Im] \n",
      "       input  shape : {32} output shape : {32, 32, 32}\n",
      "    ------------------------------------------------------------------\n",
      "    [Convolution2d] \n",
      "     input  shape : [32, 32, 32]     output shape : [32, 30, 30]\n",
      "      ----------------------------------------------------------------\n",
      "      [ConvolutionIm2Col] \n",
      "       input  shape : {32, 32, 32} output shape : {32, 3, 3}\n",
      "      ----------------------------------------------------------------\n",
      "      [Sequential] \n",
      "       input  shape : [32, 3, 3]       output shape : [32]\n",
      "        --------------------------------------------------------------\n",
      "        [Sequential] \n",
      "         input  shape : [32, 3, 3]         output shape : [32]\n",
      "          ------------------------------------------------------------\n",
      "          [DifferentiableLut4] \n",
      "           input  shape : {32, 3, 3} output shape : {512}\n",
      "           connection : random\n",
      "           binary : 1           batch_norm : 1\n",
      "          ------------------------------------------------------------\n",
      "          [DifferentiableLut4] \n",
      "           input  shape : {512} output shape : {128}\n",
      "           connection : serial\n",
      "           binary : 1           batch_norm : 1\n",
      "          ------------------------------------------------------------\n",
      "          [AverageLut] \n",
      "           input  shape : {128} output shape : {32}\n",
      "           connection : serial\n",
      "      ----------------------------------------------------------------\n",
      "      [ConvolutionCol2Im] \n",
      "       input  shape : {32} output shape : {32, 30, 30}\n",
      "    ------------------------------------------------------------------\n",
      "    [Convolution2d] \n",
      "     input  shape : [32, 30, 30]     output shape : [64, 28, 28]\n",
      "      ----------------------------------------------------------------\n",
      "      [ConvolutionIm2Col] \n",
      "       input  shape : {32, 30, 30} output shape : {32, 3, 3}\n",
      "      ----------------------------------------------------------------\n",
      "      [Sequential] \n",
      "       input  shape : [32, 3, 3]       output shape : [64]\n",
      "        --------------------------------------------------------------\n",
      "        [Sequential] \n",
      "         input  shape : [32, 3, 3]         output shape : [64]\n",
      "          ------------------------------------------------------------\n",
      "          [DifferentiableLut4] \n",
      "           input  shape : {32, 3, 3} output shape : {1024}\n",
      "           connection : random\n",
      "           binary : 1           batch_norm : 1\n",
      "          ------------------------------------------------------------\n",
      "          [DifferentiableLut4] \n",
      "           input  shape : {1024} output shape : {256}\n",
      "           connection : serial\n",
      "           binary : 1           batch_norm : 1\n",
      "          ------------------------------------------------------------\n",
      "          [AverageLut] \n",
      "           input  shape : {256} output shape : {64}\n",
      "           connection : serial\n",
      "      ----------------------------------------------------------------\n",
      "      [ConvolutionCol2Im] \n",
      "       input  shape : {64} output shape : {64, 28, 28}\n",
      "    ------------------------------------------------------------------\n",
      "    [MaxPooling] \n",
      "     filter size : (2, 2)\n",
      "     input  shape : {64, 28, 28} output shape : {64, 14, 14}\n",
      "  --------------------------------------------------------------------\n",
      "  [Sequential] \n",
      "   input  shape : [64, 14, 14]   output shape : [128, 5, 5]\n",
      "    ------------------------------------------------------------------\n",
      "    [Convolution2d] \n",
      "     input  shape : [64, 14, 14]     output shape : [64, 12, 12]\n",
      "      ----------------------------------------------------------------\n",
      "      [ConvolutionIm2Col] \n",
      "       input  shape : {64, 14, 14} output shape : {64, 3, 3}\n",
      "      ----------------------------------------------------------------\n",
      "      [Sequential] \n",
      "       input  shape : [64, 3, 3]       output shape : [64]\n",
      "        --------------------------------------------------------------\n",
      "        [Sequential] \n",
      "         input  shape : [64, 3, 3]         output shape : [64]\n",
      "          ------------------------------------------------------------\n",
      "          [DifferentiableLut4] \n",
      "           input  shape : {64, 3, 3} output shape : {1024}\n",
      "           connection : random\n",
      "           binary : 1           batch_norm : 1\n",
      "          ------------------------------------------------------------\n",
      "          [DifferentiableLut4] \n",
      "           input  shape : {1024} output shape : {256}\n",
      "           connection : serial\n",
      "           binary : 1           batch_norm : 1\n",
      "          ------------------------------------------------------------\n",
      "          [AverageLut] \n",
      "           input  shape : {256} output shape : {64}\n",
      "           connection : serial\n",
      "      ----------------------------------------------------------------\n",
      "      [ConvolutionCol2Im] \n",
      "       input  shape : {64} output shape : {64, 12, 12}\n",
      "    ------------------------------------------------------------------\n",
      "    [Convolution2d] \n",
      "     input  shape : [64, 12, 12]     output shape : [128, 10, 10]\n",
      "      ----------------------------------------------------------------\n",
      "      [ConvolutionIm2Col] \n",
      "       input  shape : {64, 12, 12} output shape : {64, 3, 3}\n",
      "      ----------------------------------------------------------------\n",
      "      [Sequential] \n",
      "       input  shape : [64, 3, 3]       output shape : [128]\n",
      "        --------------------------------------------------------------\n",
      "        [Sequential] \n",
      "         input  shape : [64, 3, 3]         output shape : [128]\n",
      "          ------------------------------------------------------------\n",
      "          [DifferentiableLut4] \n",
      "           input  shape : {64, 3, 3} output shape : {2048}\n",
      "           connection : random\n",
      "           binary : 1           batch_norm : 1\n",
      "          ------------------------------------------------------------\n",
      "          [DifferentiableLut4] \n",
      "           input  shape : {2048} output shape : {512}\n",
      "           connection : serial\n",
      "           binary : 1           batch_norm : 1\n",
      "          ------------------------------------------------------------\n",
      "          [AverageLut] \n",
      "           input  shape : {512} output shape : {128}\n",
      "           connection : serial\n",
      "      ----------------------------------------------------------------\n",
      "      [ConvolutionCol2Im] \n",
      "       input  shape : {128} output shape : {128, 10, 10}\n",
      "    ------------------------------------------------------------------\n",
      "    [MaxPooling] \n",
      "     filter size : (2, 2)\n",
      "     input  shape : {128, 10, 10} output shape : {128, 5, 5}\n",
      "  --------------------------------------------------------------------\n",
      "  [Sequential] \n",
      "   input  shape : [128, 5, 5]   output shape : [10, 1, 1]\n",
      "    ------------------------------------------------------------------\n",
      "    [Convolution2d] \n",
      "     input  shape : [128, 5, 5]     output shape : [10, 1, 1]\n",
      "      ----------------------------------------------------------------\n",
      "      [ConvolutionIm2Col] \n",
      "       input  shape : {128, 5, 5} output shape : {128, 5, 5}\n",
      "      ----------------------------------------------------------------\n",
      "      [Sequential] \n",
      "       input  shape : [128, 5, 5]       output shape : [10]\n",
      "        --------------------------------------------------------------\n",
      "        [Sequential] \n",
      "         input  shape : [128, 5, 5]         output shape : [512]\n",
      "          ------------------------------------------------------------\n",
      "          [DifferentiableLut4] \n",
      "           input  shape : {128, 5, 5} output shape : {2048}\n",
      "           connection : random\n",
      "           binary : 1           batch_norm : 1\n",
      "          ------------------------------------------------------------\n",
      "          [AverageLut] \n",
      "           input  shape : {2048} output shape : {512}\n",
      "           connection : serial\n",
      "        --------------------------------------------------------------\n",
      "        [Sequential] \n",
      "         input  shape : [512]         output shape : [10]\n",
      "          ------------------------------------------------------------\n",
      "          [DifferentiableLut4] \n",
      "           input  shape : {512} output shape : {160}\n",
      "           connection : random\n",
      "           binary : 1           batch_norm : 1\n",
      "          ------------------------------------------------------------\n",
      "          [DifferentiableLut4] \n",
      "           input  shape : {160} output shape : {40}\n",
      "           connection : serial\n",
      "           binary : 1           batch_norm : 1\n",
      "          ------------------------------------------------------------\n",
      "          [AverageLut] \n",
      "           input  shape : {40} output shape : {10}\n",
      "           connection : serial\n",
      "      ----------------------------------------------------------------\n",
      "      [ConvolutionCol2Im] \n",
      "       input  shape : {10} output shape : {10, 1, 1}\n",
      "  --------------------------------------------------------------------\n",
      "  [BinaryToReal] \n",
      "   input  shape : {10, 1, 1} output shape : {10, 1, 1}\n",
      "----------------------------------------------------------------------\n",
      "\n"
     ]
    }
   ],
   "source": [
    "net.print_info()"
   ]
  },
  {
   "cell_type": "markdown",
   "metadata": {},
   "source": [
    "## 学習実施\n",
    "\n",
    "学習を行います"
   ]
  },
  {
   "cell_type": "code",
   "execution_count": 7,
   "metadata": {},
   "outputs": [
    {
     "data": {
      "application/vnd.jupyter.widget-view+json": {
       "model_id": "c2348e2ab63d48758a8b603d0249cfb2",
       "version_major": 2,
       "version_minor": 0
      },
      "text/plain": [
       "  0%|          | 0/1563 [00:00<?, ?it/s]"
      ]
     },
     "metadata": {},
     "output_type": "display_data"
    },
    {
     "name": "stderr",
     "output_type": "stream",
     "text": [
      "/tmp/ipykernel_5307/3101336587.py:17: DeprecationWarning: __array__ implementation doesn't accept a copy keyword, so passing copy=False failed. __array__ must implement 'dtype' and 'copy' keyword arguments.\n",
      "  x_buf = bb.FrameBuffer.from_numpy(np.array(images).astype(np.float32))\n",
      "/tmp/ipykernel_5307/3101336587.py:18: DeprecationWarning: __array__ implementation doesn't accept a copy keyword, so passing copy=False failed. __array__ must implement 'dtype' and 'copy' keyword arguments.\n",
      "  t_buf = bb.FrameBuffer.from_numpy(np.identity(10)[np.array(labels)].astype(np.float32))\n",
      "/tmp/ipykernel_5307/3101336587.py:34: DeprecationWarning: __array__ implementation doesn't accept a copy keyword, so passing copy=False failed. __array__ must implement 'dtype' and 'copy' keyword arguments.\n",
      "  x_buf = bb.FrameBuffer.from_numpy(np.array(images).astype(np.float32))\n",
      "/tmp/ipykernel_5307/3101336587.py:35: DeprecationWarning: __array__ implementation doesn't accept a copy keyword, so passing copy=False failed. __array__ must implement 'dtype' and 'copy' keyword arguments.\n",
      "  t_buf = bb.FrameBuffer.from_numpy(np.identity(10)[np.array(labels)].astype(np.float32))\n"
     ]
    },
    {
     "name": "stdout",
     "output_type": "stream",
     "text": [
      "epoch[0] : loss=1.926563 accuracy=0.314200\n"
     ]
    },
    {
     "data": {
      "application/vnd.jupyter.widget-view+json": {
       "model_id": "f613b4945f7e49a9a41a61e9b1570b2c",
       "version_major": 2,
       "version_minor": 0
      },
      "text/plain": [
       "  0%|          | 0/1563 [00:00<?, ?it/s]"
      ]
     },
     "metadata": {},
     "output_type": "display_data"
    },
    {
     "name": "stdout",
     "output_type": "stream",
     "text": [
      "epoch[1] : loss=1.938607 accuracy=0.315900\n"
     ]
    },
    {
     "data": {
      "application/vnd.jupyter.widget-view+json": {
       "model_id": "f3fedd6de5ca48a9aace8a913ab3019f",
       "version_major": 2,
       "version_minor": 0
      },
      "text/plain": [
       "  0%|          | 0/1563 [00:00<?, ?it/s]"
      ]
     },
     "metadata": {},
     "output_type": "display_data"
    },
    {
     "name": "stdout",
     "output_type": "stream",
     "text": [
      "epoch[2] : loss=1.918276 accuracy=0.345000\n"
     ]
    },
    {
     "data": {
      "application/vnd.jupyter.widget-view+json": {
       "model_id": "c8d2b0f416d64c8798a89bf3704a2651",
       "version_major": 2,
       "version_minor": 0
      },
      "text/plain": [
       "  0%|          | 0/1563 [00:00<?, ?it/s]"
      ]
     },
     "metadata": {},
     "output_type": "display_data"
    },
    {
     "name": "stdout",
     "output_type": "stream",
     "text": [
      "epoch[3] : loss=1.944370 accuracy=0.277600\n"
     ]
    },
    {
     "data": {
      "application/vnd.jupyter.widget-view+json": {
       "model_id": "14c9f45acde2478b9f6333cf1d4a45ec",
       "version_major": 2,
       "version_minor": 0
      },
      "text/plain": [
       "  0%|          | 0/1563 [00:00<?, ?it/s]"
      ]
     },
     "metadata": {},
     "output_type": "display_data"
    },
    {
     "name": "stdout",
     "output_type": "stream",
     "text": [
      "epoch[4] : loss=1.897659 accuracy=0.339800\n"
     ]
    },
    {
     "data": {
      "application/vnd.jupyter.widget-view+json": {
       "model_id": "c595bf08881c469a9dea546f8ca4fbe2",
       "version_major": 2,
       "version_minor": 0
      },
      "text/plain": [
       "  0%|          | 0/1563 [00:00<?, ?it/s]"
      ]
     },
     "metadata": {},
     "output_type": "display_data"
    },
    {
     "name": "stdout",
     "output_type": "stream",
     "text": [
      "epoch[5] : loss=1.902620 accuracy=0.337000\n"
     ]
    },
    {
     "data": {
      "application/vnd.jupyter.widget-view+json": {
       "model_id": "1da7c6143b1d452cbf97cbd4551a17b4",
       "version_major": 2,
       "version_minor": 0
      },
      "text/plain": [
       "  0%|          | 0/1563 [00:00<?, ?it/s]"
      ]
     },
     "metadata": {},
     "output_type": "display_data"
    },
    {
     "name": "stdout",
     "output_type": "stream",
     "text": [
      "epoch[6] : loss=1.912261 accuracy=0.345900\n"
     ]
    },
    {
     "data": {
      "application/vnd.jupyter.widget-view+json": {
       "model_id": "254bfb3751cd4479841a488d5a1e1aa0",
       "version_major": 2,
       "version_minor": 0
      },
      "text/plain": [
       "  0%|          | 0/1563 [00:00<?, ?it/s]"
      ]
     },
     "metadata": {},
     "output_type": "display_data"
    },
    {
     "name": "stdout",
     "output_type": "stream",
     "text": [
      "epoch[7] : loss=1.928044 accuracy=0.357200\n"
     ]
    }
   ],
   "source": [
    "#bb.load_networks(data_path, net)\n",
    "\n",
    "# learning\n",
    "loss      = bb.LossSoftmaxCrossEntropy()\n",
    "metrics   = bb.MetricsCategoricalAccuracy()\n",
    "optimizer = bb.OptimizerAdam(learning_rate=0.001)\n",
    "\n",
    "optimizer.set_variables(net.get_parameters(), net.get_gradients())\n",
    "\n",
    "for epoch in range(epochs):\n",
    "    loss.clear()\n",
    "    metrics.clear()\n",
    "\n",
    "    # learning\n",
    "    with tqdm(loader_train) as t:\n",
    "        for images, labels in t:\n",
    "            x_buf = bb.FrameBuffer.from_numpy(np.array(images).astype(np.float32))\n",
    "            t_buf = bb.FrameBuffer.from_numpy(np.identity(10)[np.array(labels)].astype(np.float32))\n",
    "\n",
    "            y_buf = net.forward(x_buf, train=True)\n",
    "\n",
    "            dy_buf = loss.calculate(y_buf, t_buf)\n",
    "            metrics.calculate(y_buf, t_buf)\n",
    "            net.backward(dy_buf)\n",
    "\n",
    "            optimizer.update()\n",
    "\n",
    "            t.set_postfix(loss=loss.get(), acc=metrics.get())\n",
    "\n",
    "    # test\n",
    "    loss.clear()\n",
    "    metrics.clear()\n",
    "    for images, labels in loader_test:\n",
    "        x_buf = bb.FrameBuffer.from_numpy(np.array(images).astype(np.float32))\n",
    "        t_buf = bb.FrameBuffer.from_numpy(np.identity(10)[np.array(labels)].astype(np.float32))\n",
    "\n",
    "        y_buf = net.forward(x_buf, train=False)\n",
    "\n",
    "        loss.calculate(y_buf, t_buf)\n",
    "        metrics.calculate(y_buf, t_buf)\n",
    "\n",
    "    bb.save_networks(data_path, net)\n",
    "\n",
    "    print('epoch[%d] : loss=%f accuracy=%f' % (epoch, loss.get(), metrics.get()))"
   ]
  },
  {
   "cell_type": "markdown",
   "metadata": {},
   "source": [
    "## RTL(Verilog)変換\n",
    "\n",
    "FPGA化するために Verilog に変換します。インターフェースはXilinx社のAXI4 Stream Video 仕様(フレームスタートでtuserが立つ)となります。\n",
    "MaxPooling の単位で画像サイズが縮小されてしまうので、現状、この単位でしか変換できないため3つに分けて出力しています。"
   ]
  },
  {
   "cell_type": "code",
   "execution_count": 8,
   "metadata": {},
   "outputs": [],
   "source": [
    "# export verilog\n",
    "with open(output_velilog_file, 'w') as f:\n",
    "    f.write('`timescale 1ns / 1ps\\n\\n')\n",
    "    bb.dump_verilog_lut_cnv_layers(f, rtl_module_name + 'Cnv0', net[1])\n",
    "    bb.dump_verilog_lut_cnv_layers(f, rtl_module_name + 'Cnv1', net[2])\n",
    "    bb.dump_verilog_lut_cnv_layers(f, rtl_module_name + 'Cnv2', net[3])"
   ]
  }
 ],
 "metadata": {
  "kernelspec": {
   "display_name": ".venv",
   "language": "python",
   "name": "python3"
  },
  "language_info": {
   "codemirror_mode": {
    "name": "ipython",
    "version": 3
   },
   "file_extension": ".py",
   "mimetype": "text/x-python",
   "name": "python",
   "nbconvert_exporter": "python",
   "pygments_lexer": "ipython3",
   "version": "3.12.7"
  }
 },
 "nbformat": 4,
 "nbformat_minor": 4
}
